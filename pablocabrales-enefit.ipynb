{
 "cells": [
  {
   "cell_type": "code",
   "execution_count": 1,
   "id": "57f67e86",
   "metadata": {
    "_cell_guid": "b1076dfc-b9ad-4769-8c92-a6c4dae69d19",
    "_uuid": "8f2839f25d086af736a60e9eeb907d3b93b6e0e5",
    "execution": {
     "iopub.execute_input": "2024-01-31T17:58:47.637662Z",
     "iopub.status.busy": "2024-01-31T17:58:47.637289Z",
     "iopub.status.idle": "2024-01-31T17:58:50.275576Z",
     "shell.execute_reply": "2024-01-31T17:58:50.274237Z"
    },
    "papermill": {
     "duration": 2.650925,
     "end_time": "2024-01-31T17:58:50.280131",
     "exception": false,
     "start_time": "2024-01-31T17:58:47.629206",
     "status": "completed"
    },
    "tags": []
   },
   "outputs": [
    {
     "name": "stdout",
     "output_type": "stream",
     "text": [
      "/kaggle/input/predict-energy-behavior-of-prosumers/client.csv\n",
      "/kaggle/input/predict-energy-behavior-of-prosumers/gas_prices.csv\n",
      "/kaggle/input/predict-energy-behavior-of-prosumers/electricity_prices.csv\n",
      "/kaggle/input/predict-energy-behavior-of-prosumers/weather_station_to_county_mapping.csv\n",
      "/kaggle/input/predict-energy-behavior-of-prosumers/public_timeseries_testing_util.py\n",
      "/kaggle/input/predict-energy-behavior-of-prosumers/historical_weather.csv\n",
      "/kaggle/input/predict-energy-behavior-of-prosumers/county_id_to_name_map.json\n",
      "/kaggle/input/predict-energy-behavior-of-prosumers/train.csv\n",
      "/kaggle/input/predict-energy-behavior-of-prosumers/forecast_weather.csv\n",
      "/kaggle/input/predict-energy-behavior-of-prosumers/example_test_files/sample_submission.csv\n",
      "/kaggle/input/predict-energy-behavior-of-prosumers/example_test_files/client.csv\n",
      "/kaggle/input/predict-energy-behavior-of-prosumers/example_test_files/gas_prices.csv\n",
      "/kaggle/input/predict-energy-behavior-of-prosumers/example_test_files/electricity_prices.csv\n",
      "/kaggle/input/predict-energy-behavior-of-prosumers/example_test_files/historical_weather.csv\n",
      "/kaggle/input/predict-energy-behavior-of-prosumers/example_test_files/revealed_targets.csv\n",
      "/kaggle/input/predict-energy-behavior-of-prosumers/example_test_files/test.csv\n",
      "/kaggle/input/predict-energy-behavior-of-prosumers/example_test_files/forecast_weather.csv\n",
      "/kaggle/input/predict-energy-behavior-of-prosumers/enefit/competition.cpython-310-x86_64-linux-gnu.so\n",
      "/kaggle/input/predict-energy-behavior-of-prosumers/enefit/__init__.py\n"
     ]
    }
   ],
   "source": [
    "import numpy as np # linear algebra\n",
    "import pandas as pd # data processing, CSV file I/O (e.g. pd.read_csv)\n",
    "import matplotlib.pyplot as plt\n",
    "import seaborn as sns\n",
    "import os\n",
    "for dirname, _, filenames in os.walk('/kaggle/input'):\n",
    "    for filename in filenames:\n",
    "        print(os.path.join(dirname, filename))"
   ]
  },
  {
   "cell_type": "code",
   "execution_count": 2,
   "id": "3d075ead",
   "metadata": {
    "execution": {
     "iopub.execute_input": "2024-01-31T17:58:50.298707Z",
     "iopub.status.busy": "2024-01-31T17:58:50.298111Z",
     "iopub.status.idle": "2024-01-31T17:58:50.362574Z",
     "shell.execute_reply": "2024-01-31T17:58:50.361305Z"
    },
    "papermill": {
     "duration": 0.076283,
     "end_time": "2024-01-31T17:58:50.365548",
     "exception": false,
     "start_time": "2024-01-31T17:58:50.289265",
     "status": "completed"
    },
    "tags": []
   },
   "outputs": [],
   "source": [
    "gas_prices = pd.read_csv(\"/kaggle/input/predict-energy-behavior-of-prosumers/gas_prices.csv\")\n",
    "# Seeing that the relation between origin and forecast is always one day\n",
    "gas_prices['forecast_date'] = pd.to_datetime(gas_prices['forecast_date'])\n",
    "gas_prices['origin_date'] = pd.to_datetime(gas_prices['origin_date'])\n",
    "gas_prices['data_block_id'] = (gas_prices['forecast_date'] - gas_prices['forecast_date'].min()).dt.days + 1\n",
    "gas_prices = gas_prices.drop(columns='origin_date')\n",
    "\n",
    "# Doing log because they are skewed toward 0\n",
    "gas_prices['mean_price_per_mwh'] = (gas_prices['lowest_price_per_mwh'] + gas_prices['highest_price_per_mwh']) / 2\n",
    "gas_prices['variation_price_per_mwh'] = (- gas_prices['lowest_price_per_mwh'] + gas_prices['highest_price_per_mwh']) / 2\n",
    "gas_prices['log_mean_price_per_mwh'] = np.log(gas_prices['mean_price_per_mwh'])\n",
    "gas_prices['log_variation_price_per_mwh'] = np.log(gas_prices['variation_price_per_mwh'])\n",
    "gas_prices = gas_prices.drop(columns=['lowest_price_per_mwh', 'highest_price_per_mwh', 'forecast_date'])\n",
    "\n",
    "# print(gas_prices.info())\n",
    "\n",
    "# sample = gas_prices\n",
    "# for col in sample.columns:\n",
    "#     plt.figure(figsize=(10,4))\n",
    "#     # Different plotting based on data type\n",
    "#     if sample[col].dtype == 'object' or len(sample[col].unique()) < 10:\n",
    "#         # For categorical or discrete numerical data\n",
    "#         sns.countplot(x=col, data=sample)\n",
    "#     else:\n",
    "#         # For continuous numerical data\n",
    "#         sns.histplot(sample[col], kde=True)\n",
    "#     plt.title(f'Distribution of {col}')"
   ]
  },
  {
   "cell_type": "code",
   "execution_count": 3,
   "id": "3b9d0aa8",
   "metadata": {
    "execution": {
     "iopub.execute_input": "2024-01-31T17:58:50.379948Z",
     "iopub.status.busy": "2024-01-31T17:58:50.379466Z",
     "iopub.status.idle": "2024-01-31T17:58:50.607859Z",
     "shell.execute_reply": "2024-01-31T17:58:50.606552Z"
    },
    "papermill": {
     "duration": 0.239009,
     "end_time": "2024-01-31T17:58:50.610728",
     "exception": false,
     "start_time": "2024-01-31T17:58:50.371719",
     "status": "completed"
    },
    "tags": []
   },
   "outputs": [],
   "source": [
    "electricity_prices = pd.read_csv(\"/kaggle/input/predict-energy-behavior-of-prosumers/electricity_prices.csv\")\n",
    "electricity_prices = electricity_prices.dropna()\n",
    "\n",
    "electricity_prices['log_euros_per_mwh'] = np.log(electricity_prices['euros_per_mwh'] - np.min(electricity_prices['euros_per_mwh']) + 0.01) # log to avoid skewness\n",
    "electricity_prices['forecast_date'] = pd.to_datetime(electricity_prices['forecast_date'])\n",
    "electricity_prices['data_block_id'] = (electricity_prices['forecast_date'] - electricity_prices['forecast_date'].min()).dt.days + 1\n",
    "\n",
    "electricity_prices = electricity_prices.groupby('data_block_id').agg({\n",
    "    'euros_per_mwh':[\"max\", \"min\"],\n",
    "    'forecast_date' :'first'\n",
    "}).reset_index()\n",
    "electricity_prices.columns = ['data_block_id', 'highest_price_per_mwh', 'lowest_price_per_mwh', 'forecast_date']\n",
    "\n",
    "# Doing log because they are skewed toward 0\n",
    "electricity_prices['mean_price_per_mwh'] = (electricity_prices['lowest_price_per_mwh'] + electricity_prices['highest_price_per_mwh']) / 2\n",
    "electricity_prices['variation_price_per_mwh'] = (- electricity_prices['lowest_price_per_mwh'] + electricity_prices['highest_price_per_mwh']) / 2\n",
    "electricity_prices['log_mean_price_per_mwh'] = np.log(electricity_prices['mean_price_per_mwh'])\n",
    "electricity_prices['log_variation_price_per_mwh'] = np.log(electricity_prices['variation_price_per_mwh'])\n",
    "electricity_prices = electricity_prices.drop(columns=['lowest_price_per_mwh', 'highest_price_per_mwh'])\n",
    "\n",
    "# Generating features to capture seasonality\n",
    "electricity_prices['year'] = electricity_prices['forecast_date'].dt.year\n",
    "electricity_prices['month'] = electricity_prices['forecast_date'].dt.month\n",
    "electricity_prices['quarter'] = electricity_prices['forecast_date'].dt.quarter\n",
    "electricity_prices['week_of_year'] = electricity_prices['forecast_date'].dt.isocalendar().week.astype('int32')\n",
    "electricity_prices['day_of_week'] = electricity_prices['forecast_date'].dt.dayofweek\n",
    "electricity_prices['is_weekend'] = electricity_prices['day_of_week'].apply(lambda x: 1 if x > 4 else 0)\n",
    "electricity_prices = electricity_prices.drop(columns=['forecast_date'])  # dropping data_block_id because more info (hours) is in forecast_date, and dropping origin date like in gas_prices\n",
    "# print(electricity_prices.info())"
   ]
  },
  {
   "cell_type": "code",
   "execution_count": 4,
   "id": "7bbd2b5b",
   "metadata": {
    "execution": {
     "iopub.execute_input": "2024-01-31T17:58:50.625390Z",
     "iopub.status.busy": "2024-01-31T17:58:50.624992Z",
     "iopub.status.idle": "2024-01-31T17:58:51.447517Z",
     "shell.execute_reply": "2024-01-31T17:58:51.446605Z"
    },
    "papermill": {
     "duration": 0.832561,
     "end_time": "2024-01-31T17:58:51.449732",
     "exception": false,
     "start_time": "2024-01-31T17:58:50.617171",
     "status": "completed"
    },
    "tags": []
   },
   "outputs": [
    {
     "name": "stdout",
     "output_type": "stream",
     "text": [
      "<class 'pandas.core.frame.DataFrame'>\n",
      "RangeIndex: 112 entries, 0 to 111\n",
      "Data columns (total 4 columns):\n",
      " #   Column       Non-Null Count  Dtype  \n",
      "---  ------       --------------  -----  \n",
      " 0   county_name  49 non-null     object \n",
      " 1   longitude    112 non-null    float64\n",
      " 2   latitude     112 non-null    float64\n",
      " 3   county       49 non-null     float64\n",
      "dtypes: float64(3), object(1)\n",
      "memory usage: 3.6+ KB\n"
     ]
    },
    {
     "data": {
      "text/plain": [
       "Text(0, 0.5, 'Latitude')"
      ]
     },
     "execution_count": 4,
     "metadata": {},
     "output_type": "execute_result"
    },
    {
     "data": {
      "image/png": "[encoded data removed]",
      "text/plain": [
       "<Figure size 1000x600 with 1 Axes>"
      ]
     },
     "metadata": {},
     "output_type": "display_data"
    }
   ],
   "source": [
    "weather_station_to_county_mapping = pd.read_csv(\"/kaggle/input/predict-energy-behavior-of-prosumers/weather_station_to_county_mapping.csv\")\n",
    "weather_station_to_county_mapping.info()\n",
    "\n",
    "df = weather_station_to_county_mapping\n",
    "plt.figure(figsize=(10, 6))\n",
    "x = df.longitude.value_counts().keys()\n",
    "y = df.latitude.value_counts().keys()\n",
    "Y, X = np.meshgrid(y, x)\n",
    "# Assign each grid point a label\n",
    "Z = np.zeros(X.shape)\n",
    "for i in range(len(x)):\n",
    "    for j in range(len(y)):\n",
    "        Z[i,j] = df.loc[(df['longitude'] == x[i]) & (df['latitude'] == y[j]), 'county'].values[0]\n",
    "\n",
    "plt.contourf(X, Y, Z, alpha=0.5)\n",
    "plt.scatter(df['longitude'], df['latitude'], alpha=0.5)\n",
    "for i, row in df.iterrows():\n",
    "    plt.text(row['longitude'], row['latitude'], row['county'], fontsize=9)\n",
    "plt.xlabel('Longitude')\n",
    "plt.ylabel('Latitude')"
   ]
  },
  {
   "cell_type": "code",
   "execution_count": 5,
   "id": "f9322a24",
   "metadata": {
    "execution": {
     "iopub.execute_input": "2024-01-31T17:58:51.467101Z",
     "iopub.status.busy": "2024-01-31T17:58:51.466695Z",
     "iopub.status.idle": "2024-01-31T17:59:14.731254Z",
     "shell.execute_reply": "2024-01-31T17:59:14.730174Z"
    },
    "papermill": {
     "duration": 23.277008,
     "end_time": "2024-01-31T17:59:14.734295",
     "exception": false,
     "start_time": "2024-01-31T17:58:51.457287",
     "status": "completed"
    },
    "tags": []
   },
   "outputs": [],
   "source": [
    "from sklearn.mixture import GaussianMixture\n",
    "\n",
    "forecast_weather = pd.read_csv(\"/kaggle/input/predict-energy-behavior-of-prosumers/forecast_weather.csv\")\n",
    "forecast_weather = forecast_weather.dropna()\n",
    "\n",
    "# Rounding to avoid floating point differences that lead to not being able to merge them\n",
    "forecast_weather['longitude'] = forecast_weather['longitude'].round(1)\n",
    "forecast_weather['latitude'] = forecast_weather['latitude'].round(1)\n",
    "weather_station_to_county_mapping['longitude'] = weather_station_to_county_mapping['longitude'].round(1)\n",
    "weather_station_to_county_mapping['latitude'] = weather_station_to_county_mapping['latitude'].round(1)\n",
    "\n",
    "forecast_weather = forecast_weather.merge(weather_station_to_county_mapping, on=['latitude','longitude'], how='left')\n",
    "forecast_weather = forecast_weather.drop(columns=['origin_datetime','latitude','longitude','county_name', 'forecast_datetime', 'hours_ahead'])\n",
    "# Because counties expand across different combinations of latitude and longitude, we take the mean value of the weather columns in the county\n",
    "forecast_weather = forecast_weather.groupby(['data_block_id', 'county']).mean().reset_index()\n",
    "forecast_weather['county'] = forecast_weather['county'].astype(int)\n",
    "\n",
    "# feature for if it has snowed\n",
    "forecast_weather['log_snowfall'] = forecast_weather['snowfall'].apply(lambda x: np.log(x + 1e-5))\n",
    "forecast_weather['log_total_precipitation'] = forecast_weather['total_precipitation'].apply(lambda x: np.log(x + 1e-5))"
   ]
  },
  {
   "cell_type": "code",
   "execution_count": 6,
   "id": "0172dd16",
   "metadata": {
    "execution": {
     "iopub.execute_input": "2024-01-31T17:59:14.750797Z",
     "iopub.status.busy": "2024-01-31T17:59:14.750423Z",
     "iopub.status.idle": "2024-01-31T17:59:40.826406Z",
     "shell.execute_reply": "2024-01-31T17:59:40.824992Z"
    },
    "papermill": {
     "duration": 26.087623,
     "end_time": "2024-01-31T17:59:40.829303",
     "exception": false,
     "start_time": "2024-01-31T17:59:14.741680",
     "status": "completed"
    },
    "tags": []
   },
   "outputs": [
    {
     "name": "stdout",
     "output_type": "stream",
     "text": [
      "Train shape before:  (2017824, 9)\n",
      "Test shape before:  (12480, 9)\n",
      "Train shape after:  (2017824, 40)\n",
      "Test shape after:  (12480, 41)\n"
     ]
    }
   ],
   "source": [
    "from sklearn.impute import KNNImputer\n",
    "from sklearn.preprocessing import StandardScaler\n",
    "\n",
    "train = pd.read_csv(\"/kaggle/input/predict-energy-behavior-of-prosumers/train.csv\")\n",
    "test = pd.read_csv(\"/kaggle/input/predict-energy-behavior-of-prosumers/example_test_files/test.csv\")\n",
    "\n",
    "train = train.dropna()\n",
    "test = test.dropna()\n",
    "\n",
    "train['data_block_id'] = train['data_block_id'].replace(to_replace=0, value=1)  # Because the prices do not have data for day 0, basically we are imputing with the values from the following day\n",
    "test['data_block_id'] = test['data_block_id'].replace(to_replace=0, value=1)\n",
    "\n",
    "print(\"Train shape before: \", train.shape)\n",
    "print(\"Test shape before: \", test.shape)\n",
    "train = train.drop(columns='datetime')\n",
    "\n",
    "train = train.merge(forecast_weather, on=['data_block_id', 'county'], how='left')  # Merge with weather conditions\n",
    "train_impute = train   # for the last cell\n",
    "test = test.merge(forecast_weather, on=['data_block_id', 'county'], how='left') \n",
    "\n",
    "# Merging produces nans (missing county 12) and converts some ints to float (because of the NaNs). Lets KNN impute them, so that idealy it generates similar climate conditions\n",
    "columns_impute = forecast_weather.columns[2:]\n",
    "train = train.fillna(train.median())\n",
    "test = test.fillna(train.median())\n",
    "\n",
    "# Gaussian mixtures for temperature and dewpoint, because\n",
    "gmm = GaussianMixture(n_components=4)\n",
    "feats_gm = ['temperature', 'dewpoint']\n",
    "for feat in feats_gm:\n",
    "    gmm.fit(train[feat].values.reshape(-1,1))\n",
    "    train[f'{feat}_gm'] = gmm.predict(train[feat].values.reshape(-1,1))\n",
    "    test[f'{feat}_gm'] = gmm.predict(test[feat].values.reshape(-1,1))\n",
    "\n",
    "train['is_snow'] = train['snowfall'].apply(lambda x: 1 if x > 0. else 0)\n",
    "train['is_preciptation'] = train['total_precipitation'].apply(lambda x: 1 if x > 0. else 0)\n",
    "test['is_snow'] = test['snowfall'].apply(lambda x: 1 if x > 0. else 0)\n",
    "test['is_preciptation'] = test['total_precipitation'].apply(lambda x: 1 if x > 0. else 0)\n",
    "\n",
    "train = train.merge(gas_prices, on=['data_block_id'], how='left')  # Merge with gas prices\n",
    "test = test.merge(gas_prices, on=['data_block_id'], how='left')\n",
    "\n",
    "train = train.merge(electricity_prices, on=['data_block_id'], how='left')  # Merge with electricity prices\n",
    "test = test.merge(electricity_prices, on=['data_block_id'], how='left')\n",
    "\n",
    "print(\"Train shape after: \", train.shape)\n",
    "print(\"Test shape after: \", test.shape)"
   ]
  },
  {
   "cell_type": "code",
   "execution_count": 7,
   "id": "9bcbb53d",
   "metadata": {
    "execution": {
     "iopub.execute_input": "2024-01-31T17:59:40.846890Z",
     "iopub.status.busy": "2024-01-31T17:59:40.846492Z",
     "iopub.status.idle": "2024-01-31T17:59:40.851253Z",
     "shell.execute_reply": "2024-01-31T17:59:40.850084Z"
    },
    "papermill": {
     "duration": 0.016727,
     "end_time": "2024-01-31T17:59:40.853710",
     "exception": false,
     "start_time": "2024-01-31T17:59:40.836983",
     "status": "completed"
    },
    "tags": []
   },
   "outputs": [],
   "source": [
    "# sample = train\n",
    "# for col in sample.columns:\n",
    "#     plt.figure(figsize=(10,4))\n",
    "#     # Different plotting based on data type\n",
    "#     if sample[col].dtype == 'object' or len(sample[col].unique()) < 20:\n",
    "#         # For categorical or discrete numerical data\n",
    "#         sns.countplot(x=col, data=sample)\n",
    "#     else:\n",
    "#         # For continuous numerical data\n",
    "#         sns.histplot(sample[col], kde=True)\n",
    "#     plt.title(f'Distribution of {col}')"
   ]
  },
  {
   "cell_type": "code",
   "execution_count": 8,
   "id": "eeab188d",
   "metadata": {
    "execution": {
     "iopub.execute_input": "2024-01-31T17:59:40.870397Z",
     "iopub.status.busy": "2024-01-31T17:59:40.869959Z",
     "iopub.status.idle": "2024-01-31T17:59:40.875356Z",
     "shell.execute_reply": "2024-01-31T17:59:40.874052Z"
    },
    "papermill": {
     "duration": 0.016447,
     "end_time": "2024-01-31T17:59:40.877667",
     "exception": false,
     "start_time": "2024-01-31T17:59:40.861220",
     "status": "completed"
    },
    "tags": []
   },
   "outputs": [],
   "source": [
    "# # Let's check out correlations\n",
    "# plt.figure(figsize=(24,20))\n",
    "# sns.heatmap(train.select_dtypes(['int64','float64']).corr(),annot=True)"
   ]
  },
  {
   "cell_type": "code",
   "execution_count": 9,
   "id": "27060d74",
   "metadata": {
    "execution": {
     "iopub.execute_input": "2024-01-31T17:59:40.894890Z",
     "iopub.status.busy": "2024-01-31T17:59:40.894465Z",
     "iopub.status.idle": "2024-01-31T17:59:43.353653Z",
     "shell.execute_reply": "2024-01-31T17:59:43.352591Z"
    },
    "papermill": {
     "duration": 2.470782,
     "end_time": "2024-01-31T17:59:43.356311",
     "exception": false,
     "start_time": "2024-01-31T17:59:40.885529",
     "status": "completed"
    },
    "tags": []
   },
   "outputs": [],
   "source": [
    "from sklearn.preprocessing import RobustScaler\n",
    "from sklearn.compose import ColumnTransformer\n",
    "norm_features = [col for col in test.columns if test[col].dtype == 'float64']\n",
    "transformer = ColumnTransformer(\n",
    "    transformers=[\n",
    "        ('scaler', RobustScaler(), norm_features)\n",
    "    ],\n",
    "    remainder='passthrough'\n",
    ")\n",
    "\n",
    "X = train.drop(columns=['target','row_id'])\n",
    "y = train.target\n",
    "X = transformer.fit_transform(X)\n",
    "\n",
    "# Transform the target for the train test too\n",
    "target_scaler = RobustScaler()\n",
    "y = target_scaler.fit_transform(y.to_frame())\n"
   ]
  },
  {
   "cell_type": "code",
   "execution_count": 10,
   "id": "030bb258",
   "metadata": {
    "execution": {
     "iopub.execute_input": "2024-01-31T17:59:43.373135Z",
     "iopub.status.busy": "2024-01-31T17:59:43.372681Z",
     "iopub.status.idle": "2024-01-31T17:59:45.058741Z",
     "shell.execute_reply": "2024-01-31T17:59:45.057456Z"
    },
    "papermill": {
     "duration": 1.697848,
     "end_time": "2024-01-31T17:59:45.061691",
     "exception": false,
     "start_time": "2024-01-31T17:59:43.363843",
     "status": "completed"
    },
    "tags": []
   },
   "outputs": [],
   "source": [
    "import optuna\n",
    "import xgboost as xgb\n",
    "from sklearn.model_selection import KFold\n",
    "from sklearn.metrics import mean_absolute_error\n",
    "\n",
    "def objective(trial):\n",
    "    params = {\n",
    "        'objective': 'reg:linear',\n",
    "        'eval_metric': 'mae',\n",
    "        'learning_rate': trial.suggest_float('learning_rate', 0.01, 0.5),\n",
    "        'n_estimators': trial.suggest_int('n_estimators', 100, 1000),\n",
    "        'max_depth': trial.suggest_int('max_depth', 3, 9),\n",
    "        'min_child_weight': trial.suggest_int('min_child_weight', 1, 9),\n",
    "        'subsample': trial.suggest_float('subsample', 0.5, 1.0),\n",
    "        'colsample_bytree': trial.suggest_float('colsample_bytree', 0.05, 0.5),\n",
    "        'reg_alpha' : trial.suggest_float('reg_alpha', 0.5, 1.0),\n",
    "        'reg_lambda' : trial.suggest_float('reg_lambda', 0.5, 1.0),\n",
    "        'random_state': 42\n",
    "    }\n",
    "    \n",
    "    xgb_regressor = xgb.XGBRegressor(**params)\n",
    "    \n",
    "    skfold = KFold(n_splits=3, shuffle=True)\n",
    "    cv_results = []\n",
    "    for fold, (train_idx, val_idx) in enumerate(skfold.split(X, y)):\n",
    "        X_train, y_train = X[train_idx], y[train_idx]\n",
    "        X_val, y_val = X[val_idx], y[val_idx]\n",
    "        xgb_trained = xgb_regressor.fit(X_train, y_train)\n",
    "        y_val_pred = xgb_trained.predict(X_val)\n",
    "        val_loss = mean_absolute_error(y_val_pred, y_val)\n",
    "        cv_results.append(val_loss)\n",
    "    return np.mean(cv_results)\n",
    "\n",
    "# tuning_study = optuna.create_study(direction=\"minimize\")\n",
    "# tuning_study.optimize(objective, n_trials=5)\n",
    "\n",
    "# print(\"Best trial:\")\n",
    "# trial = tuning_study.best_trial\n",
    "# print(f\"  Value: {trial.value}\")\n",
    "# print(\"  Params: \")\n",
    "# for key, value in trial.params.items():\n",
    "#     print(f\"    {key}: {value}\")\n",
    "\n",
    "# best_params = tuning_study.best_params\n",
    "# best_xgb = xgb.XGBRegressor(**best_params)"
   ]
  },
  {
   "cell_type": "code",
   "execution_count": 11,
   "id": "4507626e",
   "metadata": {
    "execution": {
     "iopub.execute_input": "2024-01-31T17:59:45.078723Z",
     "iopub.status.busy": "2024-01-31T17:59:45.078315Z",
     "iopub.status.idle": "2024-01-31T18:01:38.058518Z",
     "shell.execute_reply": "2024-01-31T18:01:38.056983Z"
    },
    "papermill": {
     "duration": 112.9996,
     "end_time": "2024-01-31T18:01:38.068987",
     "exception": false,
     "start_time": "2024-01-31T17:59:45.069387",
     "status": "completed"
    },
    "tags": []
   },
   "outputs": [
    {
     "data": {
      "text/html": [
       "<style>#sk-container-id-1 {color: black;background-color: white;}#sk-container-id-1 pre{padding: 0;}#sk-container-id-1 div.sk-toggleable {background-color: white;}#sk-container-id-1 label.sk-toggleable__label {cursor: pointer;display: block;width: 100%;margin-bottom: 0;padding: 0.3em;box-sizing: border-box;text-align: center;}#sk-container-id-1 label.sk-toggleable__label-arrow:before {content: \"▸\";float: left;margin-right: 0.25em;color: #696969;}#sk-container-id-1 label.sk-toggleable__label-arrow:hover:before {color: black;}#sk-container-id-1 div.sk-estimator:hover label.sk-toggleable__label-arrow:before {color: black;}#sk-container-id-1 div.sk-toggleable__content {max-height: 0;max-width: 0;overflow: hidden;text-align: left;background-color: #f0f8ff;}#sk-container-id-1 div.sk-toggleable__content pre {margin: 0.2em;color: black;border-radius: 0.25em;background-color: #f0f8ff;}#sk-container-id-1 input.sk-toggleable__control:checked~div.sk-toggleable__content {max-height: 200px;max-width: 100%;overflow: auto;}#sk-container-id-1 input.sk-toggleable__control:checked~label.sk-toggleable__label-arrow:before {content: \"▾\";}#sk-container-id-1 div.sk-estimator input.sk-toggleable__control:checked~label.sk-toggleable__label {background-color: #d4ebff;}#sk-container-id-1 div.sk-label input.sk-toggleable__control:checked~label.sk-toggleable__label {background-color: #d4ebff;}#sk-container-id-1 input.sk-hidden--visually {border: 0;clip: rect(1px 1px 1px 1px);clip: rect(1px, 1px, 1px, 1px);height: 1px;margin: -1px;overflow: hidden;padding: 0;position: absolute;width: 1px;}#sk-container-id-1 div.sk-estimator {font-family: monospace;background-color: #f0f8ff;border: 1px dotted black;border-radius: 0.25em;box-sizing: border-box;margin-bottom: 0.5em;}#sk-container-id-1 div.sk-estimator:hover {background-color: #d4ebff;}#sk-container-id-1 div.sk-parallel-item::after {content: \"\";width: 100%;border-bottom: 1px solid gray;flex-grow: 1;}#sk-container-id-1 div.sk-label:hover label.sk-toggleable__label {background-color: #d4ebff;}#sk-container-id-1 div.sk-serial::before {content: \"\";position: absolute;border-left: 1px solid gray;box-sizing: border-box;top: 0;bottom: 0;left: 50%;z-index: 0;}#sk-container-id-1 div.sk-serial {display: flex;flex-direction: column;align-items: center;background-color: white;padding-right: 0.2em;padding-left: 0.2em;position: relative;}#sk-container-id-1 div.sk-item {position: relative;z-index: 1;}#sk-container-id-1 div.sk-parallel {display: flex;align-items: stretch;justify-content: center;background-color: white;position: relative;}#sk-container-id-1 div.sk-item::before, #sk-container-id-1 div.sk-parallel-item::before {content: \"\";position: absolute;border-left: 1px solid gray;box-sizing: border-box;top: 0;bottom: 0;left: 50%;z-index: -1;}#sk-container-id-1 div.sk-parallel-item {display: flex;flex-direction: column;z-index: 1;position: relative;background-color: white;}#sk-container-id-1 div.sk-parallel-item:first-child::after {align-self: flex-end;width: 50%;}#sk-container-id-1 div.sk-parallel-item:last-child::after {align-self: flex-start;width: 50%;}#sk-container-id-1 div.sk-parallel-item:only-child::after {width: 0;}#sk-container-id-1 div.sk-dashed-wrapped {border: 1px dashed gray;margin: 0 0.4em 0.5em 0.4em;box-sizing: border-box;padding-bottom: 0.4em;background-color: white;}#sk-container-id-1 div.sk-label label {font-family: monospace;font-weight: bold;display: inline-block;line-height: 1.2em;}#sk-container-id-1 div.sk-label-container {text-align: center;}#sk-container-id-1 div.sk-container {/* jupyter's `normalize.less` sets `[hidden] { display: none; }` but bootstrap.min.css set `[hidden] { display: none !important; }` so we also need the `!important` here to be able to override the default hidden behavior on the sphinx rendered scikit-learn.org. See: https://github.com/scikit-learn/scikit-learn/issues/21755 */display: inline-block !important;position: relative;}#sk-container-id-1 div.sk-text-repr-fallback {display: none;}</style><div id=\"sk-container-id-1\" class=\"sk-top-container\"><div class=\"sk-text-repr-fallback\"><pre>XGBRegressor(base_score=None, booster=None, callbacks=None,\n",
       "             colsample_bylevel=None, colsample_bynode=None,\n",
       "             colsample_bytree=0.4457538874924199, device=None,\n",
       "             early_stopping_rounds=None, enable_categorical=False,\n",
       "             eval_metric=None, feature_types=None, gamma=None, grow_policy=None,\n",
       "             importance_type=None, interaction_constraints=None,\n",
       "             learning_rate=0.44932043296160135, max_bin=None,\n",
       "             max_cat_threshold=None, max_cat_to_onehot=None,\n",
       "             max_delta_step=None, max_depth=7, max_leaves=None,\n",
       "             min_child_weight=9, missing=nan, monotone_constraints=None,\n",
       "             multi_strategy=None, n_estimators=563, n_jobs=None,\n",
       "             num_parallel_tree=None, random_state=None, ...)</pre><b>In a Jupyter environment, please rerun this cell to show the HTML representation or trust the notebook. <br />On GitHub, the HTML representation is unable to render, please try loading this page with nbviewer.org.</b></div><div class=\"sk-container\" hidden><div class=\"sk-item\"><div class=\"sk-estimator sk-toggleable\"><input class=\"sk-toggleable__control sk-hidden--visually\" id=\"sk-estimator-id-1\" type=\"checkbox\" checked><label for=\"sk-estimator-id-1\" class=\"sk-toggleable__label sk-toggleable__label-arrow\">XGBRegressor</label><div class=\"sk-toggleable__content\"><pre>XGBRegressor(base_score=None, booster=None, callbacks=None,\n",
       "             colsample_bylevel=None, colsample_bynode=None,\n",
       "             colsample_bytree=0.4457538874924199, device=None,\n",
       "             early_stopping_rounds=None, enable_categorical=False,\n",
       "             eval_metric=None, feature_types=None, gamma=None, grow_policy=None,\n",
       "             importance_type=None, interaction_constraints=None,\n",
       "             learning_rate=0.44932043296160135, max_bin=None,\n",
       "             max_cat_threshold=None, max_cat_to_onehot=None,\n",
       "             max_delta_step=None, max_depth=7, max_leaves=None,\n",
       "             min_child_weight=9, missing=nan, monotone_constraints=None,\n",
       "             multi_strategy=None, n_estimators=563, n_jobs=None,\n",
       "             num_parallel_tree=None, random_state=None, ...)</pre></div></div></div></div></div>"
      ],
      "text/plain": [
       "XGBRegressor(base_score=None, booster=None, callbacks=None,\n",
       "             colsample_bylevel=None, colsample_bynode=None,\n",
       "             colsample_bytree=0.4457538874924199, device=None,\n",
       "             early_stopping_rounds=None, enable_categorical=False,\n",
       "             eval_metric=None, feature_types=None, gamma=None, grow_policy=None,\n",
       "             importance_type=None, interaction_constraints=None,\n",
       "             learning_rate=0.44932043296160135, max_bin=None,\n",
       "             max_cat_threshold=None, max_cat_to_onehot=None,\n",
       "             max_delta_step=None, max_depth=7, max_leaves=None,\n",
       "             min_child_weight=9, missing=nan, monotone_constraints=None,\n",
       "             multi_strategy=None, n_estimators=563, n_jobs=None,\n",
       "             num_parallel_tree=None, random_state=None, ...)"
      ]
     },
     "execution_count": 11,
     "metadata": {},
     "output_type": "execute_result"
    }
   ],
   "source": [
    "# Best params:\n",
    "best_params = {'learning_rate': 0.44932043296160135, 'n_estimators': 563, 'max_depth': 7, 'min_child_weight': 9, 'subsample': 0.8741869607320512, 'colsample_bytree': 0.4457538874924199, 'reg_alpha': 0.5232570881012439, 'reg_lambda': 0.7600224198232657}\n",
    "best_xgb = xgb.XGBRegressor(**best_params)\n",
    "best_xgb.fit(X, y)\n",
    "# best_xgb.save_model('best_xgb.json')\n",
    "# best_xgb.load_model('best_xgb.json')"
   ]
  },
  {
   "cell_type": "code",
   "execution_count": 12,
   "id": "be608407",
   "metadata": {
    "execution": {
     "iopub.execute_input": "2024-01-31T18:01:38.086532Z",
     "iopub.status.busy": "2024-01-31T18:01:38.086123Z",
     "iopub.status.idle": "2024-01-31T18:01:38.237973Z",
     "shell.execute_reply": "2024-01-31T18:01:38.236823Z"
    },
    "papermill": {
     "duration": 0.164151,
     "end_time": "2024-01-31T18:01:38.241096",
     "exception": false,
     "start_time": "2024-01-31T18:01:38.076945",
     "status": "completed"
    },
    "tags": []
   },
   "outputs": [],
   "source": [
    "submission = pd.read_csv(\"/kaggle/input/predict-energy-behavior-of-prosumers/example_test_files/sample_submission.csv\")\n",
    "\n",
    "# test = test.drop(columns=['currently_scored'])\n",
    "submission['data_block_id'] = test['data_block_id'].values\n",
    "\n",
    "test_scaled = transformer.transform(test)\n",
    "y_test_pred = best_xgb.predict(test_scaled)\n",
    "submission['target'] = target_scaler.inverse_transform(y_test_pred.reshape(-1,1))\n",
    "# submission.to_csv('submission.csv', index=False)\n"
   ]
  },
  {
   "cell_type": "code",
   "execution_count": 13,
   "id": "596916f1",
   "metadata": {
    "execution": {
     "iopub.execute_input": "2024-01-31T18:01:38.260602Z",
     "iopub.status.busy": "2024-01-31T18:01:38.260211Z",
     "iopub.status.idle": "2024-01-31T18:01:38.281968Z",
     "shell.execute_reply": "2024-01-31T18:01:38.280870Z"
    },
    "papermill": {
     "duration": 0.034831,
     "end_time": "2024-01-31T18:01:38.284959",
     "exception": false,
     "start_time": "2024-01-31T18:01:38.250128",
     "status": "completed"
    },
    "tags": []
   },
   "outputs": [],
   "source": [
    "import enefit\n",
    "env = enefit.make_env()\n",
    "iter_test = env.iter_test()"
   ]
  },
  {
   "cell_type": "code",
   "execution_count": 14,
   "id": "017a3304",
   "metadata": {
    "execution": {
     "iopub.execute_input": "2024-01-31T18:01:38.303029Z",
     "iopub.status.busy": "2024-01-31T18:01:38.302614Z",
     "iopub.status.idle": "2024-01-31T18:01:41.038191Z",
     "shell.execute_reply": "2024-01-31T18:01:41.036960Z"
    },
    "papermill": {
     "duration": 2.747957,
     "end_time": "2024-01-31T18:01:41.041045",
     "exception": false,
     "start_time": "2024-01-31T18:01:38.293088",
     "status": "completed"
    },
    "tags": []
   },
   "outputs": [
    {
     "name": "stdout",
     "output_type": "stream",
     "text": [
      "This version of the API is not optimized and should not be used to estimate the runtime of your code on the hidden test set.\n",
      "count    3120.0\n",
      "mean        0.0\n",
      "std         0.0\n",
      "min         0.0\n",
      "25%         0.0\n",
      "50%         0.0\n",
      "75%         0.0\n",
      "max         0.0\n",
      "Name: target, dtype: float64\n",
      "count    3120.0\n",
      "mean        0.0\n",
      "std         0.0\n",
      "min         0.0\n",
      "25%         0.0\n",
      "50%         0.0\n",
      "75%         0.0\n",
      "max         0.0\n",
      "Name: target, dtype: float64\n",
      "count    3120.0\n",
      "mean        0.0\n",
      "std         0.0\n",
      "min         0.0\n",
      "25%         0.0\n",
      "50%         0.0\n",
      "75%         0.0\n",
      "max         0.0\n",
      "Name: target, dtype: float64\n",
      "count    3120.0\n",
      "mean        0.0\n",
      "std         0.0\n",
      "min         0.0\n",
      "25%         0.0\n",
      "50%         0.0\n",
      "75%         0.0\n",
      "max         0.0\n",
      "Name: target, dtype: float64\n"
     ]
    }
   ],
   "source": [
    "for (\n",
    "    test, \n",
    "    df_new_target, \n",
    "    df_new_client, \n",
    "    historical_weather,\n",
    "    forecast_weather, \n",
    "    electricity_prices, \n",
    "    gas_prices,\n",
    "    sample_prediction\n",
    ") in iter_test:\n",
    "    print(sample_prediction.target.describe())\n",
    "    \n",
    "    # Seeing that the relation between origin and forecast is always one day\n",
    "    gas_prices['forecast_date'] = pd.to_datetime(gas_prices['forecast_date'])\n",
    "    gas_prices['origin_date'] = pd.to_datetime(gas_prices['origin_date'])\n",
    "    gas_prices['data_block_id'] = (gas_prices['forecast_date'] - gas_prices['forecast_date'].min()).dt.days + 1\n",
    "    gas_prices = gas_prices.drop(columns='origin_date')\n",
    "\n",
    "    # Doing log because they are skewed toward 0\n",
    "    gas_prices['mean_price_per_mwh'] = (gas_prices['lowest_price_per_mwh'] + gas_prices['highest_price_per_mwh']) / 2\n",
    "    gas_prices['variation_price_per_mwh'] = (- gas_prices['lowest_price_per_mwh'] + gas_prices['highest_price_per_mwh']) / 2\n",
    "    gas_prices['log_mean_price_per_mwh'] = np.log(gas_prices['mean_price_per_mwh'])\n",
    "    gas_prices['log_variation_price_per_mwh'] = np.log(gas_prices['variation_price_per_mwh'])\n",
    "    gas_prices = gas_prices.drop(columns=['lowest_price_per_mwh', 'highest_price_per_mwh', 'forecast_date'])\n",
    "    \n",
    "    electricity_prices = electricity_prices.dropna()\n",
    "    electricity_prices['log_euros_per_mwh'] = np.log(electricity_prices['euros_per_mwh'] - np.min(electricity_prices['euros_per_mwh']) + 0.01) # log to avoid skewness\n",
    "    electricity_prices['forecast_date'] = pd.to_datetime(electricity_prices['forecast_date'])\n",
    "    electricity_prices['data_block_id'] = (electricity_prices['forecast_date'] - electricity_prices['forecast_date'].min()).dt.days + 1\n",
    "\n",
    "    electricity_prices = electricity_prices.groupby('data_block_id').agg({\n",
    "        'euros_per_mwh':[\"max\", \"min\"],\n",
    "        'forecast_date' :'first'\n",
    "    }).reset_index()\n",
    "    electricity_prices.columns = ['data_block_id', 'highest_price_per_mwh', 'lowest_price_per_mwh', 'forecast_date']\n",
    "\n",
    "    # Doing log because they are skewed toward 0\n",
    "    electricity_prices['mean_price_per_mwh'] = (electricity_prices['lowest_price_per_mwh'] + electricity_prices['highest_price_per_mwh']) / 2\n",
    "    electricity_prices['variation_price_per_mwh'] = (- electricity_prices['lowest_price_per_mwh'] + electricity_prices['highest_price_per_mwh']) / 2\n",
    "    electricity_prices['log_mean_price_per_mwh'] = np.log(electricity_prices['mean_price_per_mwh'])\n",
    "    electricity_prices['log_variation_price_per_mwh'] = np.log(electricity_prices['variation_price_per_mwh'])\n",
    "    electricity_prices = electricity_prices.drop(columns=['lowest_price_per_mwh', 'highest_price_per_mwh'])\n",
    "\n",
    "    # Generating features to capture seasonality\n",
    "    electricity_prices['year'] = electricity_prices['forecast_date'].dt.year\n",
    "    electricity_prices['month'] = electricity_prices['forecast_date'].dt.month\n",
    "    electricity_prices['quarter'] = electricity_prices['forecast_date'].dt.quarter\n",
    "    electricity_prices['week_of_year'] = electricity_prices['forecast_date'].dt.isocalendar().week.astype('int32')\n",
    "    electricity_prices['day_of_week'] = electricity_prices['forecast_date'].dt.dayofweek\n",
    "    electricity_prices['is_weekend'] = electricity_prices['day_of_week'].apply(lambda x: 1 if x > 4 else 0)\n",
    "\n",
    "    forecast_weather = forecast_weather.dropna()\n",
    "    # Rounding to avoid floating point differences that lead to not being able to merge them\n",
    "    forecast_weather['longitude'] = forecast_weather['longitude'].round(1)\n",
    "    forecast_weather['latitude'] = forecast_weather['latitude'].round(1)\n",
    "    weather_station_to_county_mapping['longitude'] = weather_station_to_county_mapping['longitude'].round(1)\n",
    "    weather_station_to_county_mapping['latitude'] = weather_station_to_county_mapping['latitude'].round(1)\n",
    "\n",
    "    forecast_weather = forecast_weather.merge(weather_station_to_county_mapping, on=['latitude','longitude'], how='left')\n",
    "    forecast_weather['forecast_datetime'] = pd.to_datetime(forecast_weather['forecast_datetime'])\n",
    "    forecast_weather['data_block_id'] = (forecast_weather['forecast_datetime'] - forecast_weather['forecast_datetime'].min()).dt.days\n",
    "    forecast_weather = forecast_weather.drop(columns=['origin_datetime','latitude','longitude','county_name', 'forecast_datetime', 'hours_ahead'])\n",
    "    # Because counties expand across different combinations of latitude and longitude, we take the mean value of the weather columns in the county\n",
    "    forecast_weather = forecast_weather.groupby(['data_block_id', 'county']).mean().reset_index()\n",
    "    forecast_weather['county'] = forecast_weather['county'].astype(int)\n",
    "\n",
    "    # feature for if it has snowed\n",
    "    forecast_weather['log_snowfall'] = forecast_weather['snowfall'].apply(lambda x: np.log(x + 1e-5))\n",
    "    forecast_weather['log_total_precipitation'] = forecast_weather['total_precipitation'].apply(lambda x: np.log(x + 1e-5))\n",
    "    \n",
    "    test['prediction_datetime'] = pd.to_datetime(test['prediction_datetime'])\n",
    "    test['data_block_id'] = (test['prediction_datetime'] - electricity_prices['forecast_date'].min()).dt.days\n",
    "    test['data_block_id'] = test['data_block_id'].replace(to_replace=0, value=1)\n",
    "    test = test.merge(forecast_weather, on=['data_block_id', 'county'], how='left') \n",
    "    electricity_prices = electricity_prices.drop(columns=['forecast_date'])  # dropping data_block_id because more info (hours) is in forecast_date, and dropping origin date like in gas_prices\n",
    "\n",
    "    columns_impute = forecast_weather.columns[2:]\n",
    "    test = test.fillna(train_impute.median())\n",
    "    feats_gm = ['temperature', 'dewpoint']\n",
    "    for feat in feats_gm:\n",
    "        test[f'{feat}_gm'] = gmm.predict(test[feat].values.reshape(-1,1))\n",
    "    test['is_snow'] = test['snowfall'].apply(lambda x: 1 if x > 0. else 0)\n",
    "    test['is_preciptation'] = test['total_precipitation'].apply(lambda x: 1 if x > 0. else 0)\n",
    "\n",
    "    test = test.merge(gas_prices, on=['data_block_id'], how='left')\n",
    "    test = test.merge(electricity_prices, on=['data_block_id'], how='left')\n",
    "    norm_features = [col for col in test.columns if test[col].dtype == 'float64']\n",
    "\n",
    "    test_scaled = transformer.transform(test)\n",
    "    y_test_pred = best_xgb.predict(test_scaled)\n",
    "    sample_prediction['target'] = 0.0#target_scaler.inverse_transform(y_test_pred.reshape(-1,1)).astype('float64').clip(0.0)\n",
    "    env.predict(sample_prediction)\n",
    "    "
   ]
  }
 ],
 "metadata": {
  "kaggle": {
   "accelerator": "none",
   "dataSources": [
    {
     "databundleVersionId": 7292407,
     "sourceId": 57236,
     "sourceType": "competition"
    }
   ],
   "dockerImageVersionId": 30635,
   "isGpuEnabled": false,
   "isInternetEnabled": false,
   "language": "python",
   "sourceType": "notebook"
  },
  "kernelspec": {
   "display_name": "Python 3",
   "language": "python",
   "name": "python3"
  },
  "language_info": {
   "codemirror_mode": {
    "name": "ipython",
    "version": 3
   },
   "file_extension": ".py",
   "mimetype": "text/x-python",
   "name": "python",
   "nbconvert_exporter": "python",
   "pygments_lexer": "ipython3",
   "version": "3.10.12"
  },
  "papermill": {
   "default_parameters": {},
   "duration": 178.773343,
   "end_time": "2024-01-31T18:01:41.973182",
   "environment_variables": {},
   "exception": null,
   "input_path": "__notebook__.ipynb",
   "output_path": "__notebook__.ipynb",
   "parameters": {},
   "start_time": "2024-01-31T17:58:43.199839",
   "version": "2.4.0"
  }
 },
 "nbformat": 4,
 "nbformat_minor": 5
}
