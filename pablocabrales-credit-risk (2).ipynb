{
 "cells": [
  {
   "cell_type": "code",
   "execution_count": 1,
   "id": "16b257f9",
   "metadata": {
    "_cell_guid": "b1076dfc-b9ad-4769-8c92-a6c4dae69d19",
    "_uuid": "8f2839f25d086af736a60e9eeb907d3b93b6e0e5",
    "execution": {
     "iopub.execute_input": "2024-05-02T15:50:13.443783Z",
     "iopub.status.busy": "2024-05-02T15:50:13.443508Z",
     "iopub.status.idle": "2024-05-02T15:50:15.321884Z",
     "shell.execute_reply": "2024-05-02T15:50:15.321074Z"
    },
    "papermill": {
     "duration": 1.887677,
     "end_time": "2024-05-02T15:50:15.324335",
     "exception": false,
     "start_time": "2024-05-02T15:50:13.436658",
     "status": "completed"
    },
    "tags": []
   },
   "outputs": [],
   "source": [
    "import numpy as np\n",
    "import pandas as pd\n",
    "import polars as pl\n",
    "import os\n",
    "import gc\n",
    "dataPath = '/kaggle/input/home-credit-credit-risk-model-stability/'\n",
    "# for dirname, _, filenames in os.walk(dataPath + 'csv_files/'):\n",
    "#     for filename in filenames:\n",
    "#         print(os.path.join(dirname, filename))"
   ]
  },
  {
   "cell_type": "code",
   "execution_count": 2,
   "id": "c5290a61",
   "metadata": {
    "execution": {
     "iopub.execute_input": "2024-05-02T15:50:15.337496Z",
     "iopub.status.busy": "2024-05-02T15:50:15.336980Z",
     "iopub.status.idle": "2024-05-02T15:50:15.341391Z",
     "shell.execute_reply": "2024-05-02T15:50:15.340434Z"
    },
    "papermill": {
     "duration": 0.013253,
     "end_time": "2024-05-02T15:50:15.343593",
     "exception": false,
     "start_time": "2024-05-02T15:50:15.330340",
     "status": "completed"
    },
    "tags": []
   },
   "outputs": [],
   "source": [
    "# train_basetable = pd.read_csv(dataPath + \"csv_files/train/train_base.csv\")\n",
    "# train_basetable.info()"
   ]
  },
  {
   "cell_type": "code",
   "execution_count": 3,
   "id": "44141260",
   "metadata": {
    "execution": {
     "iopub.execute_input": "2024-05-02T15:50:15.355680Z",
     "iopub.status.busy": "2024-05-02T15:50:15.355403Z",
     "iopub.status.idle": "2024-05-02T15:50:31.269333Z",
     "shell.execute_reply": "2024-05-02T15:50:31.268308Z"
    },
    "papermill": {
     "duration": 15.922671,
     "end_time": "2024-05-02T15:50:31.271875",
     "exception": false,
     "start_time": "2024-05-02T15:50:15.349204",
     "status": "completed"
    },
    "tags": []
   },
   "outputs": [],
   "source": [
    "train_basetable = pl.read_csv(dataPath + \"csv_files/train/train_base.csv\")\n",
    "train_static = pl.concat(\n",
    "    [\n",
    "        pl.read_csv(dataPath + \"csv_files/train/train_static_0_0.csv\"),\n",
    "        pl.read_csv(dataPath + \"csv_files/train/train_static_0_1.csv\"),\n",
    "    ],\n",
    "    how=\"vertical_relaxed\", # coerces column into common supertype (e.g. int32->int64)\n",
    ")\n",
    "train_static_cb = pl.read_csv(dataPath + \"csv_files/train/train_static_cb_0.csv\")\n",
    "train_person_1 = pl.read_csv(dataPath + \"csv_files/train/train_person_1.csv\")\n",
    "train_credit_bureau_b_2 = pl.read_csv(dataPath + \"csv_files/train/train_credit_bureau_b_2.csv\")"
   ]
  },
  {
   "cell_type": "code",
   "execution_count": 4,
   "id": "c7cc0a92",
   "metadata": {
    "execution": {
     "iopub.execute_input": "2024-05-02T15:50:31.285555Z",
     "iopub.status.busy": "2024-05-02T15:50:31.284705Z",
     "iopub.status.idle": "2024-05-02T15:50:31.351336Z",
     "shell.execute_reply": "2024-05-02T15:50:31.350446Z"
    },
    "papermill": {
     "duration": 0.075972,
     "end_time": "2024-05-02T15:50:31.353842",
     "exception": false,
     "start_time": "2024-05-02T15:50:31.277870",
     "status": "completed"
    },
    "tags": []
   },
   "outputs": [],
   "source": [
    "test_basetable = pl.read_csv(dataPath + \"csv_files/test/test_base.csv\")\n",
    "test_static = pl.concat(\n",
    "    [\n",
    "        pl.read_csv(dataPath + \"csv_files/test/test_static_0_0.csv\"),\n",
    "        pl.read_csv(dataPath + \"csv_files/test/test_static_0_1.csv\"),\n",
    "        pl.read_csv(dataPath + \"csv_files/test/test_static_0_2.csv\"),\n",
    "    ],\n",
    "    how=\"vertical_relaxed\",\n",
    ")\n",
    "test_static_cb = pl.read_csv(dataPath + \"csv_files/test/test_static_cb_0.csv\")\n",
    "test_person_1 = pl.read_csv(dataPath + \"csv_files/test/test_person_1.csv\")\n",
    "test_credit_bureau_b_2 = pl.read_csv(dataPath + \"csv_files/test/test_credit_bureau_b_2.csv\")"
   ]
  },
  {
   "cell_type": "code",
   "execution_count": 5,
   "id": "8a278dc4",
   "metadata": {
    "execution": {
     "iopub.execute_input": "2024-05-02T15:50:31.367097Z",
     "iopub.status.busy": "2024-05-02T15:50:31.366707Z",
     "iopub.status.idle": "2024-05-02T15:50:34.601049Z",
     "shell.execute_reply": "2024-05-02T15:50:34.600196Z"
    },
    "papermill": {
     "duration": 3.243514,
     "end_time": "2024-05-02T15:50:34.603240",
     "exception": false,
     "start_time": "2024-05-02T15:50:31.359726",
     "status": "completed"
    },
    "tags": []
   },
   "outputs": [
    {
     "name": "stdout",
     "output_type": "stream",
     "text": [
      "clientscnt12m_3712952L\n",
      "clientscnt3m_3712950L\n",
      "clientscnt6m_3712949L\n",
      "clientscnt_100L\n",
      "clientscnt_1022L\n",
      "clientscnt_1071L\n",
      "clientscnt_1130L\n",
      "clientscnt_136L\n",
      "clientscnt_157L\n",
      "clientscnt_257L\n",
      "clientscnt_304L\n",
      "clientscnt_360L\n",
      "clientscnt_493L\n",
      "clientscnt_533L\n",
      "clientscnt_887L\n",
      "clientscnt_946L\n",
      "daysoverduetolerancedd_3976961L\n",
      "days120_123L\n",
      "days180_256L\n",
      "days30_165L\n",
      "days360_512L\n",
      "days90_310L\n"
     ]
    },
    {
     "data": {
      "text/plain": [
       "0"
      ]
     },
     "execution_count": 5,
     "metadata": {},
     "output_type": "execute_result"
    }
   ],
   "source": [
    "# We need to use aggregation functions in tables with depth > 1, so tables that contain num_group1 column or \n",
    "# also num_group2 column.\n",
    "train_person_1_feats_1 = train_person_1.group_by(\"case_id\").agg(\n",
    "    pl.col(\"mainoccupationinc_384A\").max().alias(\"mainoccupationinc_384A_max\"),\n",
    "    (pl.col(\"incometype_1044T\") == \"SELFEMPLOYED\").max().alias(\"mainoccupationinc_384A_any_selfemployed\")\n",
    ")\n",
    "\n",
    "# Here num_group1=0 has special meaning, it is the person who applied for the loan.\n",
    "train_person_1_feats_2 = train_person_1.select([\"case_id\", \"num_group1\", \"housetype_905L\"]).filter(\n",
    "    pl.col(\"num_group1\") == 0\n",
    ").drop(\"num_group1\").rename({\"housetype_905L\": \"person_housetype\"})\n",
    "\n",
    "# Here we have num_goup1 and num_group2, so we need to aggregate again.\n",
    "train_credit_bureau_b_2_feats = train_credit_bureau_b_2.group_by(\"case_id\").agg(\n",
    "    pl.col(\"pmts_pmtsoverdue_635A\").max().alias(\"pmts_pmtsoverdue_635A_max\"),\n",
    "    (pl.col(\"pmts_dpdvalue_108P\") > 31).max().alias(\"pmts_dpdvalue_108P_over31\")\n",
    ")\n",
    "\n",
    "# We will process in this examples only A-type and M-type columns, so we need to select them.\n",
    "selected_static_cols = []\n",
    "for col in train_static.columns:\n",
    "    if col[:4] in (\"clie\", \"days\"):\n",
    "        print(col)\n",
    "        continue\n",
    "    else:\n",
    "        selected_static_cols.append(col)\n",
    "\n",
    "selected_static_cb_cols = []\n",
    "for col in train_static_cb.columns:\n",
    "    if col[:4] in (\"clie\", \"days\"):\n",
    "        print(col)\n",
    "        continue\n",
    "    else:\n",
    "        selected_static_cb_cols.append(col)\n",
    "\n",
    "# Join all tables together.\n",
    "data = train_basetable.join(\n",
    "    train_static.select(selected_static_cols), how=\"left\", on=\"case_id\"\n",
    ").join(\n",
    "    train_static_cb.select(selected_static_cb_cols), how=\"left\", on=\"case_id\"\n",
    ").join(\n",
    "    train_person_1_feats_1, how=\"left\", on=\"case_id\"\n",
    ").join(\n",
    "    train_person_1_feats_2, how=\"left\", on=\"case_id\"\n",
    ").join(\n",
    "    train_credit_bureau_b_2_feats, how=\"left\", on=\"case_id\"\n",
    ")\n",
    "\n",
    "del train_basetable\n",
    "del train_static\n",
    "del train_static_cb\n",
    "del train_person_1_feats_1\n",
    "del train_person_1_feats_2\n",
    "del train_credit_bureau_b_2_feats\n",
    "gc.collect()"
   ]
  },
  {
   "cell_type": "code",
   "execution_count": 6,
   "id": "a67d9ed8",
   "metadata": {
    "execution": {
     "iopub.execute_input": "2024-05-02T15:50:34.615493Z",
     "iopub.status.busy": "2024-05-02T15:50:34.615219Z",
     "iopub.status.idle": "2024-05-02T15:50:34.673465Z",
     "shell.execute_reply": "2024-05-02T15:50:34.672499Z"
    },
    "papermill": {
     "duration": 0.066582,
     "end_time": "2024-05-02T15:50:34.675461",
     "exception": false,
     "start_time": "2024-05-02T15:50:34.608879",
     "status": "completed"
    },
    "tags": []
   },
   "outputs": [
    {
     "data": {
      "text/plain": [
       "0"
      ]
     },
     "execution_count": 6,
     "metadata": {},
     "output_type": "execute_result"
    }
   ],
   "source": [
    "test_person_1_feats_1 = test_person_1.group_by(\"case_id\").agg(\n",
    "    pl.col(\"mainoccupationinc_384A\").max().alias(\"mainoccupationinc_384A_max\"),\n",
    "    (pl.col(\"incometype_1044T\") == \"SELFEMPLOYED\").max().alias(\"mainoccupationinc_384A_any_selfemployed\")\n",
    ")\n",
    "\n",
    "test_person_1_feats_2 = test_person_1.select([\"case_id\", \"num_group1\", \"housetype_905L\"]).filter(\n",
    "    pl.col(\"num_group1\") == 0\n",
    ").drop(\"num_group1\").rename({\"housetype_905L\": \"person_housetype\"})\n",
    "\n",
    "test_credit_bureau_b_2_feats = test_credit_bureau_b_2.group_by(\"case_id\").agg(\n",
    "    pl.col(\"pmts_pmtsoverdue_635A\").max().alias(\"pmts_pmtsoverdue_635A_max\"),\n",
    "    (pl.col(\"pmts_dpdvalue_108P\") > 31).max().alias(\"pmts_dpdvalue_108P_over31\")\n",
    ")\n",
    "\n",
    "data_submission = test_basetable.join(\n",
    "    test_static.select(selected_static_cols), how=\"left\", on=\"case_id\"\n",
    ").join(\n",
    "    test_static_cb.select(selected_static_cb_cols), how=\"left\", on=\"case_id\"\n",
    ").join(\n",
    "    test_person_1_feats_1, how=\"left\", on=\"case_id\"\n",
    ").join(\n",
    "    test_person_1_feats_2, how=\"left\", on=\"case_id\"\n",
    ").join(\n",
    "    test_credit_bureau_b_2_feats, how=\"left\", on=\"case_id\"\n",
    ")\n",
    "\n",
    "del test_basetable\n",
    "del test_static\n",
    "del test_static_cb\n",
    "del test_person_1_feats_1\n",
    "del test_person_1_feats_2\n",
    "del test_credit_bureau_b_2_feats\n",
    "gc.collect()"
   ]
  },
  {
   "cell_type": "code",
   "execution_count": 7,
   "id": "fdd207ff",
   "metadata": {
    "execution": {
     "iopub.execute_input": "2024-05-02T15:50:34.688320Z",
     "iopub.status.busy": "2024-05-02T15:50:34.687985Z",
     "iopub.status.idle": "2024-05-02T15:50:34.691705Z",
     "shell.execute_reply": "2024-05-02T15:50:34.690860Z"
    },
    "papermill": {
     "duration": 0.012448,
     "end_time": "2024-05-02T15:50:34.693833",
     "exception": false,
     "start_time": "2024-05-02T15:50:34.681385",
     "status": "completed"
    },
    "tags": []
   },
   "outputs": [],
   "source": [
    "# frac_keep = 0.01 # working with a small percentage of data for easier handling\n",
    "\n",
    "# data = data.sample(fraction=frac_keep)"
   ]
  },
  {
   "cell_type": "code",
   "execution_count": 8,
   "id": "de59110a",
   "metadata": {
    "execution": {
     "iopub.execute_input": "2024-05-02T15:50:34.706879Z",
     "iopub.status.busy": "2024-05-02T15:50:34.706596Z",
     "iopub.status.idle": "2024-05-02T15:50:34.871085Z",
     "shell.execute_reply": "2024-05-02T15:50:34.870044Z"
    },
    "papermill": {
     "duration": 0.17376,
     "end_time": "2024-05-02T15:50:34.873291",
     "exception": false,
     "start_time": "2024-05-02T15:50:34.699531",
     "status": "completed"
    },
    "tags": []
   },
   "outputs": [
    {
     "name": "stderr",
     "output_type": "stream",
     "text": [
      "/tmp/ipykernel_26/3363785835.py:3: DeprecationWarning: named `columns` param is deprecated; use positional `*args` instead.\n",
      "  data = data.drop(columns=[col for col in irrelevant_cols if col in data.columns])\n",
      "/tmp/ipykernel_26/3363785835.py:4: DeprecationWarning: named `columns` param is deprecated; use positional `*args` instead.\n",
      "  data_submission = data_submission.drop(columns=[col for col in irrelevant_cols if col in data_submission.columns])\n"
     ]
    }
   ],
   "source": [
    "# Less relevant columns\n",
    "irrelevant_cols = ['pmtnum_254L', 'birthdate_574D', 'max_relationshiptoclient_642T', 'max_overdueamountmax2date_1142D', 'mean_numberofoverdueinstlmaxdat_641D', 'mean_pmts_overdue_1140A', 'mean_residualamount_856A', 'last_processingdate_168D', 'last_pmtamount_36A', 'posfstqpd30lastmonth_3976962P', 'mean_pmts_dpd_1073P', 'max_numberofoverdueinstlmaxdat_148D', 'max_nominalrate_281L', 'last_annuity_853A', 'max_pmtnum_8L', 'max_pmtamount_36A', 'mean_overdueamountmax2_398A', 'dateofbirth_337D', 'mean_overdueamountmax2_14A', 'mean_credlmt_935A', 'mean_pmts_dpd_303P', 'last_employedfrom_700D', 'max_periodicityofpmts_837L', 'lastrejectcredamount_222A', 'mean_totalamount_996A', 'max_processingdate_168D', 'mean_instlamount_768A', 'lastrejectdate_50D', 'mean_credlmt_230A', 'last_refreshdate_3813885D', 'responsedate_1012D', 'max_overdueamountmaxdatemonth_365T', 'mean_pmts_overdue_1152A', 'max_annuity_853A', 'mean_outstandingamount_362A', 'max_periodicityofpmts_1102L', 'max_employedfrom_700D', 'posfpd10lastmonth_333P', 'last_pmtnum_8L', 'mean_overdueamountmax2date_1002D', 'max_incometype_1044T', 'mean_overdueamountmax_35A', 'twobodfilling_608L', 'posfpd30lastmonth_3976960P', 'max_dpdmaxdatemonth_89T', 'max_mainoccupationinc_384A', 'mean_dpdmax_757P', 'max_numberofoverdueinstlmax_1151L', 'max_firstnonzeroinstldate_307D', 'days180_256L', 'max_empl_industry_691L', 'max_num_group2_13', 'last_personindex_1023L', 'credamount_770A', 'max_totalamount_6A', 'days30_165L', 'last_firstnonzeroinstldate_307D', 'mean_totalamount_6A', 'responsedate_4527233D', 'mean_dateofcredend_289D', 'max_dpdmaxdateyear_596T', 'mean_monthlyinstlamount_674A', 'max_byoccupationinc_3656910L', 'mean_annuity_853A', 'max_num_group1_15', 'max_overdueamountmaxdateyear_2T', 'last_credamount_590A', 'mean_totaloutstanddebtvalue_39A', 'max_numberofinstls_320L', 'disbursedcredamount_1113A', 'max_nominalrate_498L', 'max_pmts_dpd_303P', 'mean_monthlyinstlamount_332A', 'max_numberofoutstandinstls_59L', 'mean_downpmt_134A', 'mean_lastupdate_388D', 'max_numberofoverdueinstlmax_1039L', 'mean_mainoccupationinc_437A', 'max_num_group1_5', 'mean_dateofrealrepmt_138D', 'max_numberofinstls_229L', 'max_dateofcredstart_181D', 'maxannuity_159A', 'mean_dateofcredend_353D', 'max_monthlyinstlamount_674A', 'mean_firstnonzeroinstldate_307D', 'last_creationdate_885D', 'max_empl_employedtotal_800L', 'max_debtoutstand_525A', 'mean_credamount_590A', 'max_numberofcontrsvalue_358L', 'last_pmts_year_507T', 'max_rejectreason_755M', 'max_num_group1', 'mean_creationdate_885D', 'last_mainoccupationinc_437A', 'pmtscount_423L', 'max_lastupdate_388D', 'last_pmts_year_1139T', 'max_collater_valueofguarantee_1124L', 'max_birth_259D', 'max_dpdmaxdatemonth_442T', 'max_childnum_21L', 'max_mainoccupationinc_437A', 'max_downpmt_134A', 'mean_totaldebtoverduevalue_718A', 'description_5085714M', 'lastapplicationdate_877D', 'mean_credacc_credlmt_575A', 'max_credamount_590A', 'max_num_group2_15', 'last_currdebt_94A', 'lastrejectreason_759M', 'education_1103M', 'inittransactioncode_186L', 'last_credacc_credlmt_575A', 'last_downpmt_134A', 'days360_512L', 'last_num_group1', 'max_lastupdate_1112D', 'max_dateofrealrepmt_138D', 'max_overdueamountmaxdatemonth_284T', 'max_education_1138M', 'mean_overdueamount_659A', 'commnoinclast6m_3546845L', 'sumoutstandtotal_3546847A', 'mean_refreshdate_3813885D', 'price_1097A', 'last_rejectreason_755M', 'mastercontrelectronic_519L', 'month_decision', 'opencred_647L', 'max_debtoverdue_47A', 'mean_lastupdate_1112D', 'max_credacc_credlmt_575A', 'lastapprdate_640D', 'max_outstandingdebt_522A', 'credtype_322L', 'maritalst_385M', 'mean_totaloutstanddebtvalue_668A', 'last_education_1138M', 'max_residualamount_488A', 'max_num_group2_14', 'max_familystate_726L', 'last_num_group2_13', 'last_num_group2_14', 'mean_outstandingdebt_522A', 'last_postype_4733339M', 'max_credtype_587L', 'max_numberofoverdueinstls_725L', 'mobilephncnt_593L', 'last_outstandingdebt_522A', 'fourthquarter_440L', 'max_dpdmaxdateyear_896T', 'max_pmts_year_507T', 'pctinstlsallpaidlate1d_3546856L', 'lastcancelreason_561M', 'max_dateofcredend_353D', 'max_description_351M', 'max_approvaldate_319D', 'max_empls_employer_name_740M', 'max_overdueamountmaxdateyear_994T', 'numinsttopaygr_769L', 'lastapprcredamount_781A', 'last_pmts_month_158T', 'maininc_215A', 'max_refreshdate_3813885D', 'actualdpdtolerance_344P', 'weekday_decision', 'amtinstpaidbefduel24m_4187115A', 'last_cancelreason_3545846M', 'last_credtype_587L', 'last_familystate_726L', 'max_num_group1_13', 'mean_outstandingamount_354A', 'lastrejectcommoditycat_161M', 'last_inittransactioncode_279L', 'last_conts_type_509L', 'mean_approvaldate_319D', 'max_dtlastpmtallstes_3545839D', 'maxdpdfrom6mto36m_3546853P', 'max_remitter_829L', 'thirdquarter_1082L', 'clientscnt_533L', 'applicationscnt_867L', 'mean_currdebt_94A', 'mean_dtlastpmt_581D', 'max_collater_valueofguarantee_876L', 'max_inittransactioncode_279L', 'last_num_group1_6', 'dtlastpmtallstes_4499206D', 'mean_dtlastpmtallstes_3545839D', 'avgoutstandbalancel6m_4187114A', 'max_num_group1_9', 'last_status_219L', 'maxoutstandbalancel12m_4187113A', 'max_numberofcontrsvalue_258L', 'max_status_219L', 'max_currdebt_94A', 'disbursementtype_67L', 'numinstlsallpaid_934L', 'clientscnt_887L', 'maxdpdlast3m_392P', 'max_pmts_year_1139T', 'maxdebt4_972A', 'max_dateactivated_425D', 'applicationscnt_464L', 'clientscnt_1071L', 'max_language1_981M', 'avgpmtlast12m_4525200A', 'cntpmts24_3658933L', 'last_pmts_month_706T', 'max_purposeofcred_874M', 'secondquarter_766L', 'mean_dateactivated_425D', 'max_postype_4733339M', 'requesttype_4525192L', 'numinstpaidlastcontr_4325080L', 'sumoutstandtotalest_4493215A', 'last_approvaldate_319D', 'max_rejectreasonclient_4145042M', 'cntincpaycont9m_3716944L', 'maxdpdlast24m_143P', 'firstquarter_103L', 'last_maxdpdtolerance_577P', 'mean_maxdpdtolerance_577P', 'mean_actualdpd_943P', 'numinstpaidearly3d_3546850L', 'max_role_1084L', 'avginstallast24m_3658937A', 'last_mainoccupationinc_384A', 'mastercontrexist_109L', 'last_rejectreasonclient_4145042M', 'homephncnt_628L', 'sellerplacecnt_915L', 'firstdatedue_489D', 'numinstpaidearly5d_1087L', 'max_subjectroles_name_541M', 'last_birth_259D', 'last_empls_employer_name_740M', 'max_subjectrole_93M', 'last_dateactivated_425D', 'avgdbddpdlast3m_4187120P', 'last_financialinstitution_591M', 'max_contaddr_smempladdr_334L', 'last_dtlastpmtallstes_3545839D', 'mindbddpdlast24m_3658935P', 'last_persontype_1072L', 'max_subjectroles_name_838M', 'clientscnt_100L', 'max_classificationofcontr_400M', 'maxlnamtstart6m_4525199A', 'numinstpaidearly_338L', 'numinstpaidlate1d_3546852L', 'numincomingpmts_3546848L', 'numinstlswithoutdpd_562L', 'max_financialinstitution_591M', 'numrejects9m_859L', 'maxdpdinstldate_3546855D', 'max_conts_role_79M', 'last_contaddr_matchlist_1032L', 'max_cancelreason_3545846M', 'numcontrs3months_479L', 'pctinstlsallpaidearl3d_427L', 'lastrejectreasonclient_4145040M', 'pctinstlsallpaidlate4d_3546849L', 'max_numberofoutstandinstls_520L', 'mindbdtollast24m_4525191P', 'maxinstallast24m_3658928A', 'mean_overdueamount_31A', 'max_pmts_month_158T', 'maxdpdtolerance_374P', 'maxdbddpdtollast6m_4187119P', 'max_financialinstitution_382M', 'max_dtlastpmt_581D', 'clientscnt_946L', 'last_role_1084L', 'max_collaterals_typeofguarante_359M', 'education_88M', 'daysoverduetolerancedd_3976961L', 'max_collaterals_typeofguarante_669M', 'applications30d_658L', 'currdebtcredtyperange_828A', 'numinstls_657L', 'totalsettled_863A', 'max_purposeofcred_426M', 'max_subjectrole_182M', 'last_empladdr_zipcode_114M', 'last_language1_981M', 'max_contaddr_matchlist_1032L', 'last_subjectrole_93M', 'max_education_927M', 'max_empladdr_district_926M', 'applicationcnt_361L', 'last_empls_economicalst_849M', 'last_collater_typofvalofguarant_298M', 'last_collater_typofvalofguarant_407M', 'last_collaterals_typeofguarante_359M', 'last_collaterals_typeofguarante_669M', 'last_subjectroles_name_541M', 'firstclxcampaign_1125D', 'lastactivateddate_801D', 'lastdelinqdate_224D', 'max_pmts_month_706T', 'last_incometype_1044T', 'avgmaxdpdlast9m_3716943P', 'datefirstoffer_1144D', 'datelastunpaid_3546854D', 'last_safeguarantyflag_411L', 'last_sex_738L', 'last_type_25L', 'max_collater_typofvalofguarant_298M', 'max_collater_typofvalofguarant_407M', 'max_numberofoverdueinstls_834L', 'avgdpdtolclosure24_3658938P', 'maritalst_893M', 'lastapprcommoditycat_1041M', 'lastrejectcommodtypec_5251769M', 'lastst_736L', 'paytype1st_925L', 'paytype_783L', 'numinstregularpaidest_4493210L', 'numinstpaidearly5dest_4493211L', 'numinstregularpaid_973L', 'pctinstlsallpaidlat10d_839L', 'numnotactivated_1143L', 'numpmtchanneldd_318L', 'max_safeguarantyflag_411L', 'max_type_25L', 'numinstlswithdpd10_728L', 'numinstpaid_4499208L', 'last_contaddr_smempladdr_334L', 'max_isbidproduct_390L', 'last_isbidproduct_390L', 'max_classificationofcontr_13M', 'deferredmnthsnum_166L', 'downpmt_116A', 'isbidproduct_1095L', 'numactivecreds_622L', 'numactivecredschannel_414L', 'numactiverelcontr_750L', 'max_contractst_545M', 'maxdpdinstlnum_3546846P', 'last_subjectroles_name_838M', 'max_cacccardblochreas_147M', 'last_cacccardblochreas_147M', 'max_conts_type_509L', 'max_empls_economicalst_849M', 'max_contractst_964M', 'clientscnt_157L', 'clientscnt_257L', 'clientscnt_304L', 'maxdbddpdlast1m_3658939P', 'maxdbddpdtollast12m_3658940P', 'clientscnt_360L', 'clientscnt_493L', 'numinstlswithdpd5_4187116L', 'annuitynextmonth_57A', 'currdebt_22A', 'totaldebt_9A', 'last_actualdpd_943P', 'last_conts_role_79M', 'pctinstlsallpaidlate6d_3546844L', 'last_classificationofcontr_13M', 'last_classificationofcontr_400M', 'last_contractst_545M', 'last_contractst_964M', 'last_description_351M', 'last_financialinstitution_382M', 'applicationscnt_1086L', 'clientscnt_1022L', 'clientscnt_1130L', 'max_empladdr_zipcode_114M', 'last_education_927M', 'last_empladdr_district_926M', 'last_purposeofcred_426M', 'last_purposeofcred_874M', 'last_subjectrole_182M']\n",
    "data = data.drop(columns=[col for col in irrelevant_cols if col in data.columns])\n",
    "data_submission = data_submission.drop(columns=[col for col in irrelevant_cols if col in data_submission.columns])"
   ]
  },
  {
   "cell_type": "code",
   "execution_count": 9,
   "id": "cc0f3588",
   "metadata": {
    "execution": {
     "iopub.execute_input": "2024-05-02T15:50:34.885726Z",
     "iopub.status.busy": "2024-05-02T15:50:34.885437Z",
     "iopub.status.idle": "2024-05-02T15:50:48.689882Z",
     "shell.execute_reply": "2024-05-02T15:50:48.689069Z"
    },
    "papermill": {
     "duration": 13.813313,
     "end_time": "2024-05-02T15:50:48.692285",
     "exception": false,
     "start_time": "2024-05-02T15:50:34.878972",
     "status": "completed"
    },
    "tags": []
   },
   "outputs": [],
   "source": [
    "pd.options.mode.chained_assignment = None  # None|'warn'|'raise'\n",
    "\n",
    "seed = 42\n",
    "from sklearn.model_selection import train_test_split\n",
    "case_ids = data['case_id'].unique().shuffle(seed=seed)\n",
    "case_ids_train, case_ids_test = train_test_split(case_ids, train_size=0.85, random_state=seed)\n",
    "\n",
    "cols_pred = []\n",
    "for col in data.columns:\n",
    "    if col[-1].isupper() and col[:-1].islower():\n",
    "        cols_pred.append(col)\n",
    "        \n",
    "def from_polars_to_pandas(case_ids):\n",
    "    return (\n",
    "        data.filter(pl.col(\"case_id\").is_in(case_ids))[[\"case_id\", \"WEEK_NUM\", \"target\"]].to_pandas(),\n",
    "        data.filter(pl.col(\"case_id\").is_in(case_ids))[cols_pred].to_pandas(),\n",
    "        data.filter(pl.col(\"case_id\").is_in(case_ids))[\"target\"].to_pandas()\n",
    "    )\n",
    "\n",
    "from sklearn.preprocessing import RobustScaler\n",
    "scaler = RobustScaler()\n",
    "\n",
    "# Make it into a type that XGBClassifier can handle\n",
    "def convert_strings(df, train=True, columns=None):\n",
    "    if train:\n",
    "        threshold = 0.7\n",
    "        original_columns = set(df.columns)\n",
    "        # Drop columns with more than x% missing values\n",
    "        df = df.copy().dropna(thresh=(1 - threshold) * len(df), axis=1)\n",
    "        remaining_columns = df.columns\n",
    "    else:\n",
    "        df = df[columns]\n",
    "        remaining_columns = columns\n",
    "    for col in df.columns:\n",
    "        # Base date\n",
    "        base_date = pd.Timestamp('2020-10-19 00:00:00')\n",
    "        if df[col].dtype.name in ['object', 'string']:\n",
    "            if 'date' in col:\n",
    "                df[col] = pd.to_datetime(df[col])\n",
    "                df[col] = (df[col] - base_date).dt.days  \n",
    "                df[col] = RobustScaler().fit_transform(df.copy()[[col]])\n",
    "            elif col == 'previouscontdistrict_112M':\n",
    "                df = df.drop(col, axis=1)\n",
    "                continue\n",
    "            df[col] = df[col].astype(\"string\").astype('category')\n",
    "            current_categories = df[col].cat.categories\n",
    "            new_categories = current_categories.to_list() + [\"Unknown\"]\n",
    "            new_dtype = pd.CategoricalDtype(categories=new_categories, ordered=True)\n",
    "            df[col] = df[col].astype(new_dtype).cat.codes\n",
    "            if df[col].nunique() > 30:  # More than 30 categories\n",
    "                df[col] = df[col].astype('category').cat.codes\n",
    "                df[col] = RobustScaler().fit_transform(df[[col]])\n",
    "        elif df[col].dtype == 'float':\n",
    "            df[col] = RobustScaler().fit_transform(df[[col]])\n",
    "    return df, remaining_columns\n",
    "\n",
    "base_train, X, y = from_polars_to_pandas(case_ids_train)\n",
    "base_test, X_test, y_test = from_polars_to_pandas(case_ids_test)\n",
    "\n",
    "del data\n",
    "del case_ids_train\n",
    "del case_ids_test\n",
    "gc.collect()\n",
    "\n",
    "X, train_columns = convert_strings(X, train=True)\n",
    "X_test, _ = convert_strings(X_test, train=False, columns=train_columns)"
   ]
  },
  {
   "cell_type": "code",
   "execution_count": 10,
   "id": "527f3b9c",
   "metadata": {
    "execution": {
     "iopub.execute_input": "2024-05-02T15:50:48.706315Z",
     "iopub.status.busy": "2024-05-02T15:50:48.705839Z",
     "iopub.status.idle": "2024-05-02T15:50:48.711160Z",
     "shell.execute_reply": "2024-05-02T15:50:48.710286Z"
    },
    "papermill": {
     "duration": 0.014478,
     "end_time": "2024-05-02T15:50:48.713286",
     "exception": false,
     "start_time": "2024-05-02T15:50:48.698808",
     "status": "completed"
    },
    "tags": []
   },
   "outputs": [
    {
     "name": "stdout",
     "output_type": "stream",
     "text": [
      "Train: (1297660, 22)\n",
      "Test: (228999, 22)\n"
     ]
    }
   ],
   "source": [
    "print(f\"Train: {X.shape}\")\n",
    "print(f\"Test: {X_test.shape}\")"
   ]
  },
  {
   "cell_type": "code",
   "execution_count": 11,
   "id": "7af3f467",
   "metadata": {
    "execution": {
     "iopub.execute_input": "2024-05-02T15:50:48.726515Z",
     "iopub.status.busy": "2024-05-02T15:50:48.726220Z",
     "iopub.status.idle": "2024-05-02T15:50:54.697218Z",
     "shell.execute_reply": "2024-05-02T15:50:54.696401Z"
    },
    "papermill": {
     "duration": 5.980273,
     "end_time": "2024-05-02T15:50:54.699529",
     "exception": false,
     "start_time": "2024-05-02T15:50:48.719256",
     "status": "completed"
    },
    "tags": []
   },
   "outputs": [
    {
     "name": "stderr",
     "output_type": "stream",
     "text": [
      "/opt/conda/lib/python3.10/site-packages/dask/dataframe/_pyarrow_compat.py:23: UserWarning: You are using pyarrow version 11.0.0 which is known to be insecure. See https://www.cve.org/CVERecord?id=CVE-2023-47248 for further details. Please upgrade to pyarrow>=14.0.1 or install pyarrow-hotfix to patch your current version.\n",
      "  warnings.warn(\n"
     ]
    }
   ],
   "source": [
    "import xgboost as xgb\n",
    "import optuna\n",
    "from sklearn.model_selection import KFold\n",
    "from sklearn.metrics import roc_auc_score \n",
    "from sklearn.ensemble import AdaBoostClassifier\n",
    "import lightgbm as lgb\n",
    "import json\n",
    "\n",
    "def custom_imputer(df):\n",
    "    for column in df.columns:\n",
    "        if df[column].dtype == 'float':\n",
    "            df[column] = df[column].fillna(df[column].mean())\n",
    "        elif pd.api.types.is_integer_dtype(df[column].dtype) or df[column].dtype == 'bool':\n",
    "            if pd.api.types.is_integer_dtype(df[column].dtype):\n",
    "                df[column] = df[column].fillna(df[column].median())\n",
    "            elif df[column].dtype == 'bool':\n",
    "                df[column] = df[column].fillna(df[column].mode()[0])\n",
    "    return df\n",
    "\n",
    "# def xgb_objective(trial):\n",
    "#     params = {\n",
    "#         'tree_method':'hist',\n",
    "#         'device':'cuda',\n",
    "#         'enable_categorical':'True',\n",
    "#         'eval_metric':'auc',\n",
    "#         'learning_rate': trial.suggest_float('learning_rate', 0.01, 0.5),\n",
    "#         'n_estimators': trial.suggest_int('n_estimators', 50, 100), # 100, 1000)\n",
    "#         'max_depth': trial.suggest_int('max_depth', 3, 5), # 3, 9)\n",
    "#         'min_child_weight': trial.suggest_int('min_child_weight', 1, 9),\n",
    "#         'subsample': trial.suggest_float('subsample', 0.5, 1.0),\n",
    "#         'colsample_bytree': trial.suggest_float('colsample_bytree', 0.05, 0.8),\n",
    "#         'reg_alpha' : trial.suggest_float('reg_alpha', 0.5, 1.0),\n",
    "#         'reg_lambda' : trial.suggest_float('reg_lambda', 0.5, 1.0),\n",
    "#         'random_state': 42\n",
    "#     }\n",
    "#     xgb_classifier = xgb.XGBClassifier(**params)\n",
    "#     skfold = KFold(n_splits=3, shuffle=True)\n",
    "#     cv_results = []\n",
    "#     for fold, (train_idx, val_idx) in enumerate(skfold.split(X, y)):\n",
    "#         X_train, y_train = X.iloc[train_idx], y.iloc[train_idx]\n",
    "#         X_val, y_val = X.iloc[val_idx], y.iloc[val_idx]\n",
    "        \n",
    "#         X_train = xgb.DMatrix(X_train, label=y_train, enable_categorical=True)\n",
    "#         X_val = xgb.DMatrix(X_val, enable_categorical=True)\n",
    "\n",
    "#         best_xgb = xgb.train(params, X_train, num_boost_round=902)\n",
    "#         y_val_pred = best_xgb.predict(X_val)\n",
    "#         val_loss = roc_auc_score(y_val, y_val_pred)\n",
    "#         cv_results.append(val_loss)\n",
    "#     return np.mean(cv_results)\n",
    "\n",
    "# def gbm_objective(trial):\n",
    "#     params = {\n",
    "#         'objective': 'binary',\n",
    "#         'metric': 'auc',\n",
    "#         'device_type': 'gpu',\n",
    "#         'learning_rate': trial.suggest_float('learning_rate', 0.01, 0.3),\n",
    "#         'num_leaves': trial.suggest_int('num_leaves', 20, 40),\n",
    "#         'max_depth': trial.suggest_int('max_depth', 3, 8),\n",
    "#         'min_child_samples': trial.suggest_int('min_child_samples', 20, 100),\n",
    "#         'subsample': trial.suggest_float('subsample', 0.5, 1.0),\n",
    "#         'colsample_bytree': trial.suggest_float('colsample_bytree', 0.4, 0.9),\n",
    "#         'reg_alpha': trial.suggest_float('reg_alpha', 0.0, 1.0),\n",
    "#         'reg_lambda': trial.suggest_float('reg_lambda', 0.0, 1.0)\n",
    "#     }\n",
    "#     cv_results = []\n",
    "#     skfold = KFold(n_splits=3, shuffle=True)\n",
    "#     for train_idx, val_idx in skfold.split(X, y):\n",
    "#         X_train, X_val = X.iloc[train_idx], X.iloc[val_idx]\n",
    "#         y_train, y_val = y.iloc[train_idx], y.iloc[val_idx]\n",
    "\n",
    "#         dtrain = lgb.Dataset(X_train, label=y_train)\n",
    "#         dval = lgb.Dataset(X_val, label=y_val, reference=dtrain)\n",
    "\n",
    "#         model = lgb.train(params, dtrain, num_boost_round=100, valid_sets=[dval],)\n",
    "#         preds = model.predict(X_val)\n",
    "#         auc = roc_auc_score(y_val, preds)\n",
    "#         cv_results.append(auc)\n",
    "#     return np.mean(cv_results)\n",
    "\n",
    "# n_trials = 300\n",
    "\n",
    "# tuning_study = optuna.create_study(direction='maximize')\n",
    "# tuning_study.optimize(xgb_objective, n_trials=n_trials)\n",
    "# print(\"XGB Best trial:\")\n",
    "# trial = tuning_study.best_trial\n",
    "# print(f\"  Value: {trial.value}\")\n",
    "# print(\"  Params: \")\n",
    "# for key, value in trial.params.items():\n",
    "#     print(f\"    {key}: {value}\")\n",
    "# best_params_xgb = tuning_study.best_params\n",
    "\n",
    "# tuning_study = optuna.create_study(direction='maximize')\n",
    "# tuning_study.optimize(gbm_objective, n_trials=n_trials)\n",
    "# print(\"GBM Best trial:\")\n",
    "# trial = tuning_study.best_trial\n",
    "# print(f\"  Value: {trial.value}\")\n",
    "# print(\"  Params: \")\n",
    "# for key, value in trial.params.items():\n",
    "#     print(f\"    {key}: {value}\")\n",
    "# best_params_gbm = tuning_study.best_params\n",
    "\n",
    "# params_json_xgb = json.dumps(best_params_xgb)\n",
    "# params_json_gbm = json.dumps(best_params_gbm)\n",
    "# with open('best_params_xgb.json', 'w') as f:\n",
    "#     f.write(params_json_xgb)\n",
    "# with open('best_params_gbm.json', 'w') as f:\n",
    "#     f.write(params_json_gbm)\n",
    "\n"
   ]
  },
  {
   "cell_type": "code",
   "execution_count": 12,
   "id": "046e58c4",
   "metadata": {
    "execution": {
     "iopub.execute_input": "2024-05-02T15:50:54.714852Z",
     "iopub.status.busy": "2024-05-02T15:50:54.714005Z",
     "iopub.status.idle": "2024-05-02T15:51:17.879218Z",
     "shell.execute_reply": "2024-05-02T15:51:17.878320Z"
    },
    "papermill": {
     "duration": 23.175348,
     "end_time": "2024-05-02T15:51:17.881431",
     "exception": false,
     "start_time": "2024-05-02T15:50:54.706083",
     "status": "completed"
    },
    "tags": []
   },
   "outputs": [
    {
     "name": "stderr",
     "output_type": "stream",
     "text": [
      "/opt/conda/lib/python3.10/site-packages/xgboost/core.py:160: UserWarning: [15:50:55] WARNING: /workspace/src/learner.cc:742: \n",
      "Parameters: { \"n_estimators\" } are not used.\n",
      "\n",
      "  warnings.warn(smsg, UserWarning)\n"
     ]
    },
    {
     "name": "stdout",
     "output_type": "stream",
     "text": [
      "[LightGBM] [Info] Auto-choosing col-wise multi-threading, the overhead of testing was 0.274352 seconds.\n",
      "You can set `force_col_wise=true` to remove the overhead.\n",
      "[LightGBM] [Info] Total Bins 3604\n",
      "[LightGBM] [Info] Number of data points in the train set: 1297660, number of used features: 22\n",
      "[LightGBM] [Info] Start training from score 0.031501\n",
      "[LightGBM] [Warning] No further splits with positive gain, best gain: -inf\n",
      "[LightGBM] [Warning] No further splits with positive gain, best gain: -inf\n",
      "[LightGBM] [Warning] No further splits with positive gain, best gain: -inf\n"
     ]
    }
   ],
   "source": [
    "pd.options.mode.chained_assignment = None  # None|'warn'|'raise'\n",
    "\n",
    "# XGB\n",
    "# best_params_xgb_v1 = {'learning_rate': 0.04685416258390824, 'n_estimators': 78, 'max_depth': 5, 'min_child_weight': 4, 'subsample': 0.8054062256552962, 'colsample_bytree': 0.23701687375018693, 'reg_alpha': 0.8310191036671074, 'reg_lambda': 0.8000025963932935}\n",
    "best_params_xgb = {'learning_rate': 0.03724075891357543, 'n_estimators': 92, 'max_depth': 5, 'min_child_weight': 1, 'subsample': 0.9993454153985859, 'colsample_bytree': 0.667933819896793, 'reg_alpha': 0.874083448363055, 'reg_lambda': 0.8998681581406556}\n",
    "# best_xgb = xgb.XGBClassifier(**best_params)\n",
    "# best_xgb = best_xgb.fit(X, y)\n",
    "# y_pred = best_xgb.predict(X)\n",
    "# y_test_pred = best_xgb.predict(X_test)\n",
    "\n",
    "# WITH GPU\n",
    "best_params_xgb['tree_method'] = 'hist'\n",
    "best_params_xgb['device'] = 'cuda'\n",
    "\n",
    "X_dmat = xgb.DMatrix(X, label=y, enable_categorical=True)\n",
    "X_test_dmat = xgb.DMatrix(X_test, enable_categorical=True)\n",
    "\n",
    "best_xgb = xgb.train(best_params_xgb, X_dmat, num_boost_round=902)\n",
    "\n",
    "y_pred_xgb = best_xgb.predict(X_dmat)\n",
    "y_test_pred_xgb = best_xgb.predict(X_test_dmat)\n",
    "#\n",
    "\n",
    "# # ADABOOST\n",
    "# # Impute values for adaboost\n",
    "# X_ada = custom_imputer(X)\n",
    "# X_test_ada = custom_imputer(X_test)\n",
    "\n",
    "# adaboost = AdaBoostClassifier(n_estimators=50, random_state=42)\n",
    "# adaboost.fit(X_ada, y)\n",
    "# y_pred_ada = adaboost.predict(X_ada)\n",
    "# y_test_pred_ada = adaboost.predict(X_test_ada)\n",
    "\n",
    "# GBM\n",
    "\n",
    "X_dmat = lgb.Dataset(X, label=y)\n",
    "\n",
    "# lgb_params = {'objective': 'binary','boosting_type': 'gbdt','metric': 'auc','learning_rate': 0.1,'num_leaves': 31,'max_depth': -1,'min_child_samples': 20,'subsample': 1.0,'colsample_bytree': 1.0,'reg_alpha': 0.0,'reg_lambda': 0.0,}\n",
    "# best_params_gbm_v1 = {'learning_rate': 0.12629903580473947, 'num_leaves': 33, 'max_depth': 8, 'min_child_samples': 40, 'subsample': 0.8414187308054227, 'colsample_bytree': 0.46976873543554787, 'reg_alpha': 0.9060523209262823, 'reg_lambda': 0.97840319882865}\n",
    "best_params_gbm = {'learning_rate': 0.14646560927560817, 'num_leaves': 40, 'max_depth': 8, 'min_child_samples': 76, 'subsample': 0.9176445028303771, 'colsample_bytree': 0.5049679815127405, 'reg_alpha': 0.9993513880549101, 'reg_lambda': 0.97192418018783}\n",
    "lgb_model = lgb.train(best_params_gbm, X_dmat, num_boost_round=100)\n",
    "y_pred_gbm = lgb_model.predict(X)\n",
    "y_test_pred_gbm = lgb_model.predict(X_test)\n",
    "\n",
    "base_train[\"score\"] = (y_pred_xgb + y_pred_gbm) / 2\n",
    "base_test[\"score\"] = (y_test_pred_xgb + y_test_pred_gbm) / 2"
   ]
  },
  {
   "cell_type": "code",
   "execution_count": 13,
   "id": "40109b94",
   "metadata": {
    "execution": {
     "iopub.execute_input": "2024-05-02T15:51:17.895905Z",
     "iopub.status.busy": "2024-05-02T15:51:17.895634Z",
     "iopub.status.idle": "2024-05-02T15:51:19.101964Z",
     "shell.execute_reply": "2024-05-02T15:51:19.100955Z"
    },
    "papermill": {
     "duration": 1.216522,
     "end_time": "2024-05-02T15:51:19.104258",
     "exception": false,
     "start_time": "2024-05-02T15:51:17.887736",
     "status": "completed"
    },
    "tags": []
   },
   "outputs": [
    {
     "name": "stdout",
     "output_type": "stream",
     "text": [
      "target\n",
      "0    1256783\n",
      "1      40877\n",
      "Name: count, dtype: int64\n",
      "target\n",
      "0    221882\n",
      "1      7117\n",
      "Name: count, dtype: int64\n",
      "The stability score on the train set is: 0.5079862136461668\n",
      "The stability score on the test set is: 0.4671435843083652\n"
     ]
    }
   ],
   "source": [
    "def gini_stability(base, w_fallingrate=88.0, w_resstd=-0.5):\n",
    "    \n",
    "    print(base['target'].value_counts())\n",
    "    base = base.loc[:, [\"WEEK_NUM\", \"target\", \"score\"]]\\\n",
    "        .sort_values(\"WEEK_NUM\")\\\n",
    "        .groupby(\"WEEK_NUM\")[[\"target\", \"score\"]]\n",
    "    # Prepare to store Gini coefficients for each group\n",
    "    gini_in_time = []\n",
    "    \n",
    "    # Compute Gini coefficients for each group, checking class counts\n",
    "    for _, group in base:\n",
    "        if len(group['target'].unique()) > 1:\n",
    "            gini_score = 2 * roc_auc_score(group[\"target\"], group[\"score\"]) - 1\n",
    "            gini_in_time.append(gini_score)\n",
    "        else:\n",
    "            # Handle the case where only one class is present\n",
    "            gini_in_time.append(0)  # Or another default value as appropriate\n",
    "    \n",
    "    x = np.arange(len(gini_in_time))\n",
    "    y = gini_in_time\n",
    "    a, b = np.polyfit(x, y, 1)\n",
    "    y_hat = a*x + b\n",
    "    residuals = y - y_hat\n",
    "    res_std = np.std(residuals)\n",
    "    avg_gini = np.mean(gini_in_time)\n",
    "    return avg_gini + w_fallingrate * min(0, a) + w_resstd * res_std\n",
    "\n",
    "stability_score_train = gini_stability(base_train)\n",
    "stability_score_test = gini_stability(base_test)\n",
    "\n",
    "print(f'The stability score on the train set is: {stability_score_train}') \n",
    "print(f'The stability score on the test set is: {stability_score_test}')"
   ]
  },
  {
   "cell_type": "code",
   "execution_count": 14,
   "id": "6bdc6512",
   "metadata": {
    "execution": {
     "iopub.execute_input": "2024-05-02T15:51:19.118629Z",
     "iopub.status.busy": "2024-05-02T15:51:19.118349Z",
     "iopub.status.idle": "2024-05-02T15:51:19.232449Z",
     "shell.execute_reply": "2024-05-02T15:51:19.231556Z"
    },
    "papermill": {
     "duration": 0.123731,
     "end_time": "2024-05-02T15:51:19.234702",
     "exception": false,
     "start_time": "2024-05-02T15:51:19.110971",
     "status": "completed"
    },
    "tags": []
   },
   "outputs": [],
   "source": [
    "X_submission = data_submission[cols_pred].to_pandas()\n",
    "X_submission, _ = convert_strings(X_submission, train=False, columns=train_columns)\n",
    "categorical_cols = X.select_dtypes(include=['category']).columns\n",
    "\n",
    "# categorical_cols_submission = X_submission.select_dtypes(include=['category']).columns\n",
    "# not_in_list1 = [item for item in categorical_cols_submission if item not in categorical_cols]\n",
    "# X_submission = X_submission.drop(columns=not_in_list1)\n",
    "   \n",
    "# for col in categorical_cols:    \n",
    "#     X_submission[col] = X_submission[col].astype('category')\n",
    "#     train_categories = set(X[col].cat.categories)\n",
    "#     submission_categories = set(X_submission[col].cat.categories)  # Ensure this is defined before use\n",
    "#     all_categories = train_categories.union(submission_categories).union({'Unknown'})\n",
    "    \n",
    "#     # Update the data types with the new categories list, including 'Unknown'\n",
    "#     new_dtype = pd.CategoricalDtype(categories=all_categories, ordered=True)\n",
    "#     X[col] = X[col].astype(new_dtype)\n",
    "#     X_submission[col] = X_submission[col].astype(new_dtype)\n",
    "    \n",
    "#     # Replace categories in X_submission not found in X_train with \"Unknown\"\n",
    "#     X_submission.loc[X_submission[col].isin(submission_categories - train_categories), col] = \"Unknown\"\n",
    "#     # Ensure X_submission uses the same categories as X_train\n",
    "#     X_submission[col] = X_submission[col].cat.set_categories(X[col].cat.categories)\n",
    "\n",
    "# XGB\n",
    "X_submission_dmat = xgb.DMatrix(X_submission, enable_categorical=True)\n",
    "y_submission_pred_xgb = best_xgb.predict(X_submission_dmat)\n",
    "\n",
    "# # ADA\n",
    "# X_submission_ada = custom_imputer(X_submission)\n",
    "# y_submission_pred_ada = adaboost.predict(X_submission_ada)\n",
    "\n",
    "# GBM\n",
    "X_submission_dmat = lgb.Dataset(X_submission)\n",
    "y_submission_pred_gbm = lgb_model.predict(X_submission)\n",
    "\n",
    "# Ensembling\n",
    "y_submission_pred = (y_submission_pred_xgb + y_submission_pred_gbm) / 2\n",
    "\n",
    "submission = pd.DataFrame({\n",
    "    \"case_id\": data_submission[\"case_id\"].to_numpy(),\n",
    "    \"score\": y_submission_pred\n",
    "}).set_index('case_id')\n",
    "submission.to_csv(\"./submission.csv\")"
   ]
  },
  {
   "cell_type": "code",
   "execution_count": null,
   "id": "a4361535",
   "metadata": {
    "papermill": {
     "duration": 0.006259,
     "end_time": "2024-05-02T15:51:19.248234",
     "exception": false,
     "start_time": "2024-05-02T15:51:19.241975",
     "status": "completed"
    },
    "tags": []
   },
   "outputs": [],
   "source": []
  }
 ],
 "metadata": {
  "kaggle": {
   "accelerator": "nvidiaTeslaT4",
   "dataSources": [
    {
     "databundleVersionId": 7921029,
     "sourceId": 50160,
     "sourceType": "competition"
    }
   ],
   "dockerImageVersionId": 30673,
   "isGpuEnabled": true,
   "isInternetEnabled": false,
   "language": "python",
   "sourceType": "notebook"
  },
  "kernelspec": {
   "display_name": "Python 3",
   "language": "python",
   "name": "python3"
  },
  "language_info": {
   "codemirror_mode": {
    "name": "ipython",
    "version": 3
   },
   "file_extension": ".py",
   "mimetype": "text/x-python",
   "name": "python",
   "nbconvert_exporter": "python",
   "pygments_lexer": "ipython3",
   "version": "3.10.13"
  },
  "papermill": {
   "default_parameters": {},
   "duration": 71.217445,
   "end_time": "2024-05-02T15:51:20.274831",
   "environment_variables": {},
   "exception": null,
   "input_path": "__notebook__.ipynb",
   "output_path": "__notebook__.ipynb",
   "parameters": {},
   "start_time": "2024-05-02T15:50:09.057386",
   "version": "2.5.0"
  }
 },
 "nbformat": 4,
 "nbformat_minor": 5
}
